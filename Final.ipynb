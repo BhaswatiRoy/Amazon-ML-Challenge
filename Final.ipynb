{
  "nbformat": 4,
  "nbformat_minor": 0,
  "metadata": {
    "colab": {
      "provenance": []
    },
    "kernelspec": {
      "name": "python3",
      "display_name": "Python 3"
    },
    "language_info": {
      "name": "python"
    }
  },
  "cells": [
    {
      "cell_type": "code",
      "source": [
        "import time\n",
        "import numpy as np\n",
        "import pandas as pd\n",
        "import re\n",
        "import matplotlib.pyplot as plt\n",
        "import seaborn as sns\n",
        "from scipy.sparse import csr_matrix, hstack\n",
        "from sklearn.feature_extraction.text import CountVectorizer, TfidfVectorizer\n",
        "from sklearn.preprocessing import LabelBinarizer\n",
        "\n",
        "import warnings\n",
        "warnings.filterwarnings('ignore')\n",
        "\n",
        "import gc"
      ],
      "metadata": {
        "id": "AYs1xj_ZSNZB"
      },
      "execution_count": 5,
      "outputs": []
    },
    {
      "cell_type": "code",
      "source": [
        "df_train = pd.read_csv('train.csv', engine='python', encoding='utf-8', error_bad_lines=False)\n"
      ],
      "metadata": {
        "colab": {
          "base_uri": "https://localhost:8080/"
        },
        "id": "rFOQBo55mr-v",
        "outputId": "dbb09883-9d54-4592-e16a-7b545af1c374"
      },
      "execution_count": 6,
      "outputs": [
        {
          "output_type": "stream",
          "name": "stderr",
          "text": [
            "Skipping line 4322: unexpected end of data\n"
          ]
        }
      ]
    },
    {
      "cell_type": "code",
      "source": [
        "df_train.head()"
      ],
      "metadata": {
        "colab": {
          "base_uri": "https://localhost:8080/",
          "height": 337
        },
        "id": "fPjVNJr_nCrP",
        "outputId": "bd4a2cc8-e8cf-42dc-a5f9-e466d74b146c"
      },
      "execution_count": 7,
      "outputs": [
        {
          "output_type": "execute_result",
          "data": {
            "text/plain": [
              "   PRODUCT_ID                                              TITLE  \\\n",
              "0     1925202  ArtzFolio Tulip Flowers Blackout Curtain for D...   \n",
              "1     2673191  Marks & Spencer Girls' Pyjama Sets T86_2561C_N...   \n",
              "2     2765088  PRIKNIK Horn Red Electric Air Horn Compressor ...   \n",
              "3     1594019  ALISHAH Women's Cotton Ankle Length Leggings C...   \n",
              "4      283658  The United Empire Loyalists: A Chronicle of th...   \n",
              "\n",
              "                                       BULLET_POINTS  \\\n",
              "0  [LUXURIOUS & APPEALING: Beautiful custom-made ...   \n",
              "1  [Harry Potter Hedwig Pyjamas (6-16 Yrs),100% c...   \n",
              "2  [Loud Dual Tone Trumpet Horn, Compatible With ...   \n",
              "3  [Made By 95%cotton and 5% Lycra which gives yo...   \n",
              "4                                                NaN   \n",
              "\n",
              "                                         DESCRIPTION  PRODUCT_TYPE_ID  \\\n",
              "0                                                NaN             1650   \n",
              "1                                                NaN             2755   \n",
              "2  Specifications: Color: Red, Material: Aluminiu...             7537   \n",
              "3  AISHAH Women's Lycra Cotton Ankel Leggings. Br...             2996   \n",
              "4                                                NaN             6112   \n",
              "\n",
              "   PRODUCT_LENGTH  \n",
              "0     2125.980000  \n",
              "1      393.700000  \n",
              "2      748.031495  \n",
              "3      787.401574  \n",
              "4      598.424000  "
            ],
            "text/html": [
              "\n",
              "  <div id=\"df-baa78e4a-5cfc-4c6f-95bb-8fbd35dc2d98\">\n",
              "    <div class=\"colab-df-container\">\n",
              "      <div>\n",
              "<style scoped>\n",
              "    .dataframe tbody tr th:only-of-type {\n",
              "        vertical-align: middle;\n",
              "    }\n",
              "\n",
              "    .dataframe tbody tr th {\n",
              "        vertical-align: top;\n",
              "    }\n",
              "\n",
              "    .dataframe thead th {\n",
              "        text-align: right;\n",
              "    }\n",
              "</style>\n",
              "<table border=\"1\" class=\"dataframe\">\n",
              "  <thead>\n",
              "    <tr style=\"text-align: right;\">\n",
              "      <th></th>\n",
              "      <th>PRODUCT_ID</th>\n",
              "      <th>TITLE</th>\n",
              "      <th>BULLET_POINTS</th>\n",
              "      <th>DESCRIPTION</th>\n",
              "      <th>PRODUCT_TYPE_ID</th>\n",
              "      <th>PRODUCT_LENGTH</th>\n",
              "    </tr>\n",
              "  </thead>\n",
              "  <tbody>\n",
              "    <tr>\n",
              "      <th>0</th>\n",
              "      <td>1925202</td>\n",
              "      <td>ArtzFolio Tulip Flowers Blackout Curtain for D...</td>\n",
              "      <td>[LUXURIOUS &amp; APPEALING: Beautiful custom-made ...</td>\n",
              "      <td>NaN</td>\n",
              "      <td>1650</td>\n",
              "      <td>2125.980000</td>\n",
              "    </tr>\n",
              "    <tr>\n",
              "      <th>1</th>\n",
              "      <td>2673191</td>\n",
              "      <td>Marks &amp; Spencer Girls' Pyjama Sets T86_2561C_N...</td>\n",
              "      <td>[Harry Potter Hedwig Pyjamas (6-16 Yrs),100% c...</td>\n",
              "      <td>NaN</td>\n",
              "      <td>2755</td>\n",
              "      <td>393.700000</td>\n",
              "    </tr>\n",
              "    <tr>\n",
              "      <th>2</th>\n",
              "      <td>2765088</td>\n",
              "      <td>PRIKNIK Horn Red Electric Air Horn Compressor ...</td>\n",
              "      <td>[Loud Dual Tone Trumpet Horn, Compatible With ...</td>\n",
              "      <td>Specifications: Color: Red, Material: Aluminiu...</td>\n",
              "      <td>7537</td>\n",
              "      <td>748.031495</td>\n",
              "    </tr>\n",
              "    <tr>\n",
              "      <th>3</th>\n",
              "      <td>1594019</td>\n",
              "      <td>ALISHAH Women's Cotton Ankle Length Leggings C...</td>\n",
              "      <td>[Made By 95%cotton and 5% Lycra which gives yo...</td>\n",
              "      <td>AISHAH Women's Lycra Cotton Ankel Leggings. Br...</td>\n",
              "      <td>2996</td>\n",
              "      <td>787.401574</td>\n",
              "    </tr>\n",
              "    <tr>\n",
              "      <th>4</th>\n",
              "      <td>283658</td>\n",
              "      <td>The United Empire Loyalists: A Chronicle of th...</td>\n",
              "      <td>NaN</td>\n",
              "      <td>NaN</td>\n",
              "      <td>6112</td>\n",
              "      <td>598.424000</td>\n",
              "    </tr>\n",
              "  </tbody>\n",
              "</table>\n",
              "</div>\n",
              "      <button class=\"colab-df-convert\" onclick=\"convertToInteractive('df-baa78e4a-5cfc-4c6f-95bb-8fbd35dc2d98')\"\n",
              "              title=\"Convert this dataframe to an interactive table.\"\n",
              "              style=\"display:none;\">\n",
              "        \n",
              "  <svg xmlns=\"http://www.w3.org/2000/svg\" height=\"24px\"viewBox=\"0 0 24 24\"\n",
              "       width=\"24px\">\n",
              "    <path d=\"M0 0h24v24H0V0z\" fill=\"none\"/>\n",
              "    <path d=\"M18.56 5.44l.94 2.06.94-2.06 2.06-.94-2.06-.94-.94-2.06-.94 2.06-2.06.94zm-11 1L8.5 8.5l.94-2.06 2.06-.94-2.06-.94L8.5 2.5l-.94 2.06-2.06.94zm10 10l.94 2.06.94-2.06 2.06-.94-2.06-.94-.94-2.06-.94 2.06-2.06.94z\"/><path d=\"M17.41 7.96l-1.37-1.37c-.4-.4-.92-.59-1.43-.59-.52 0-1.04.2-1.43.59L10.3 9.45l-7.72 7.72c-.78.78-.78 2.05 0 2.83L4 21.41c.39.39.9.59 1.41.59.51 0 1.02-.2 1.41-.59l7.78-7.78 2.81-2.81c.8-.78.8-2.07 0-2.86zM5.41 20L4 18.59l7.72-7.72 1.47 1.35L5.41 20z\"/>\n",
              "  </svg>\n",
              "      </button>\n",
              "      \n",
              "  <style>\n",
              "    .colab-df-container {\n",
              "      display:flex;\n",
              "      flex-wrap:wrap;\n",
              "      gap: 12px;\n",
              "    }\n",
              "\n",
              "    .colab-df-convert {\n",
              "      background-color: #E8F0FE;\n",
              "      border: none;\n",
              "      border-radius: 50%;\n",
              "      cursor: pointer;\n",
              "      display: none;\n",
              "      fill: #1967D2;\n",
              "      height: 32px;\n",
              "      padding: 0 0 0 0;\n",
              "      width: 32px;\n",
              "    }\n",
              "\n",
              "    .colab-df-convert:hover {\n",
              "      background-color: #E2EBFA;\n",
              "      box-shadow: 0px 1px 2px rgba(60, 64, 67, 0.3), 0px 1px 3px 1px rgba(60, 64, 67, 0.15);\n",
              "      fill: #174EA6;\n",
              "    }\n",
              "\n",
              "    [theme=dark] .colab-df-convert {\n",
              "      background-color: #3B4455;\n",
              "      fill: #D2E3FC;\n",
              "    }\n",
              "\n",
              "    [theme=dark] .colab-df-convert:hover {\n",
              "      background-color: #434B5C;\n",
              "      box-shadow: 0px 1px 3px 1px rgba(0, 0, 0, 0.15);\n",
              "      filter: drop-shadow(0px 1px 2px rgba(0, 0, 0, 0.3));\n",
              "      fill: #FFFFFF;\n",
              "    }\n",
              "  </style>\n",
              "\n",
              "      <script>\n",
              "        const buttonEl =\n",
              "          document.querySelector('#df-baa78e4a-5cfc-4c6f-95bb-8fbd35dc2d98 button.colab-df-convert');\n",
              "        buttonEl.style.display =\n",
              "          google.colab.kernel.accessAllowed ? 'block' : 'none';\n",
              "\n",
              "        async function convertToInteractive(key) {\n",
              "          const element = document.querySelector('#df-baa78e4a-5cfc-4c6f-95bb-8fbd35dc2d98');\n",
              "          const dataTable =\n",
              "            await google.colab.kernel.invokeFunction('convertToInteractive',\n",
              "                                                     [key], {});\n",
              "          if (!dataTable) return;\n",
              "\n",
              "          const docLinkHtml = 'Like what you see? Visit the ' +\n",
              "            '<a target=\"_blank\" href=https://colab.research.google.com/notebooks/data_table.ipynb>data table notebook</a>'\n",
              "            + ' to learn more about interactive tables.';\n",
              "          element.innerHTML = '';\n",
              "          dataTable['output_type'] = 'display_data';\n",
              "          await google.colab.output.renderOutput(dataTable, element);\n",
              "          const docLink = document.createElement('div');\n",
              "          docLink.innerHTML = docLinkHtml;\n",
              "          element.appendChild(docLink);\n",
              "        }\n",
              "      </script>\n",
              "    </div>\n",
              "  </div>\n",
              "  "
            ]
          },
          "metadata": {},
          "execution_count": 7
        }
      ]
    },
    {
      "cell_type": "code",
      "source": [
        "print(\"Size of the training dataset is\", df_train.shape)\n"
      ],
      "metadata": {
        "colab": {
          "base_uri": "https://localhost:8080/"
        },
        "id": "hz-tgM7PnGiu",
        "outputId": "717c4ae5-57a1-4641-a841-836a5984c69b"
      },
      "execution_count": 8,
      "outputs": [
        {
          "output_type": "stream",
          "name": "stdout",
          "text": [
            "Size of the training dataset is (4320, 6)\n"
          ]
        }
      ]
    },
    {
      "cell_type": "code",
      "source": [
        "df_train.dtypes"
      ],
      "metadata": {
        "colab": {
          "base_uri": "https://localhost:8080/"
        },
        "id": "M5zCvV_DnJt-",
        "outputId": "ad7aa7f9-18d6-4e98-b947-521fabec72ee"
      },
      "execution_count": 9,
      "outputs": [
        {
          "output_type": "execute_result",
          "data": {
            "text/plain": [
              "PRODUCT_ID           int64\n",
              "TITLE               object\n",
              "BULLET_POINTS       object\n",
              "DESCRIPTION         object\n",
              "PRODUCT_TYPE_ID      int64\n",
              "PRODUCT_LENGTH     float64\n",
              "dtype: object"
            ]
          },
          "metadata": {},
          "execution_count": 9
        }
      ]
    },
    {
      "cell_type": "code",
      "source": [
        "df_train.astype('object').describe().transpose()"
      ],
      "metadata": {
        "colab": {
          "base_uri": "https://localhost:8080/",
          "height": 237
        },
        "id": "qIr7KXW_nL-e",
        "outputId": "fec17f20-a2b3-461b-d1d1-7b0f2633fcfc"
      },
      "execution_count": 10,
      "outputs": [
        {
          "output_type": "execute_result",
          "data": {
            "text/plain": [
              "                  count unique  \\\n",
              "PRODUCT_ID         4320   4320   \n",
              "TITLE              4320   4319   \n",
              "BULLET_POINTS      2697   2599   \n",
              "DESCRIPTION        2065   2009   \n",
              "PRODUCT_TYPE_ID    4320   1442   \n",
              "PRODUCT_LENGTH   4320.0  912.0   \n",
              "\n",
              "                                                               top   freq  \n",
              "PRODUCT_ID                                                 1925202      1  \n",
              "TITLE                                                        Honey      2  \n",
              "BULLET_POINTS    [Good quality and Suitable to use.,This Produc...     23  \n",
              "DESCRIPTION      This Case is Made up of Hard Polycarbonate Pla...     20  \n",
              "PRODUCT_TYPE_ID                                                  1    219  \n",
              "PRODUCT_LENGTH                                               600.0  249.0  "
            ],
            "text/html": [
              "\n",
              "  <div id=\"df-10195fae-b7eb-409d-bd01-ceb553e2aeb6\">\n",
              "    <div class=\"colab-df-container\">\n",
              "      <div>\n",
              "<style scoped>\n",
              "    .dataframe tbody tr th:only-of-type {\n",
              "        vertical-align: middle;\n",
              "    }\n",
              "\n",
              "    .dataframe tbody tr th {\n",
              "        vertical-align: top;\n",
              "    }\n",
              "\n",
              "    .dataframe thead th {\n",
              "        text-align: right;\n",
              "    }\n",
              "</style>\n",
              "<table border=\"1\" class=\"dataframe\">\n",
              "  <thead>\n",
              "    <tr style=\"text-align: right;\">\n",
              "      <th></th>\n",
              "      <th>count</th>\n",
              "      <th>unique</th>\n",
              "      <th>top</th>\n",
              "      <th>freq</th>\n",
              "    </tr>\n",
              "  </thead>\n",
              "  <tbody>\n",
              "    <tr>\n",
              "      <th>PRODUCT_ID</th>\n",
              "      <td>4320</td>\n",
              "      <td>4320</td>\n",
              "      <td>1925202</td>\n",
              "      <td>1</td>\n",
              "    </tr>\n",
              "    <tr>\n",
              "      <th>TITLE</th>\n",
              "      <td>4320</td>\n",
              "      <td>4319</td>\n",
              "      <td>Honey</td>\n",
              "      <td>2</td>\n",
              "    </tr>\n",
              "    <tr>\n",
              "      <th>BULLET_POINTS</th>\n",
              "      <td>2697</td>\n",
              "      <td>2599</td>\n",
              "      <td>[Good quality and Suitable to use.,This Produc...</td>\n",
              "      <td>23</td>\n",
              "    </tr>\n",
              "    <tr>\n",
              "      <th>DESCRIPTION</th>\n",
              "      <td>2065</td>\n",
              "      <td>2009</td>\n",
              "      <td>This Case is Made up of Hard Polycarbonate Pla...</td>\n",
              "      <td>20</td>\n",
              "    </tr>\n",
              "    <tr>\n",
              "      <th>PRODUCT_TYPE_ID</th>\n",
              "      <td>4320</td>\n",
              "      <td>1442</td>\n",
              "      <td>1</td>\n",
              "      <td>219</td>\n",
              "    </tr>\n",
              "    <tr>\n",
              "      <th>PRODUCT_LENGTH</th>\n",
              "      <td>4320.0</td>\n",
              "      <td>912.0</td>\n",
              "      <td>600.0</td>\n",
              "      <td>249.0</td>\n",
              "    </tr>\n",
              "  </tbody>\n",
              "</table>\n",
              "</div>\n",
              "      <button class=\"colab-df-convert\" onclick=\"convertToInteractive('df-10195fae-b7eb-409d-bd01-ceb553e2aeb6')\"\n",
              "              title=\"Convert this dataframe to an interactive table.\"\n",
              "              style=\"display:none;\">\n",
              "        \n",
              "  <svg xmlns=\"http://www.w3.org/2000/svg\" height=\"24px\"viewBox=\"0 0 24 24\"\n",
              "       width=\"24px\">\n",
              "    <path d=\"M0 0h24v24H0V0z\" fill=\"none\"/>\n",
              "    <path d=\"M18.56 5.44l.94 2.06.94-2.06 2.06-.94-2.06-.94-.94-2.06-.94 2.06-2.06.94zm-11 1L8.5 8.5l.94-2.06 2.06-.94-2.06-.94L8.5 2.5l-.94 2.06-2.06.94zm10 10l.94 2.06.94-2.06 2.06-.94-2.06-.94-.94-2.06-.94 2.06-2.06.94z\"/><path d=\"M17.41 7.96l-1.37-1.37c-.4-.4-.92-.59-1.43-.59-.52 0-1.04.2-1.43.59L10.3 9.45l-7.72 7.72c-.78.78-.78 2.05 0 2.83L4 21.41c.39.39.9.59 1.41.59.51 0 1.02-.2 1.41-.59l7.78-7.78 2.81-2.81c.8-.78.8-2.07 0-2.86zM5.41 20L4 18.59l7.72-7.72 1.47 1.35L5.41 20z\"/>\n",
              "  </svg>\n",
              "      </button>\n",
              "      \n",
              "  <style>\n",
              "    .colab-df-container {\n",
              "      display:flex;\n",
              "      flex-wrap:wrap;\n",
              "      gap: 12px;\n",
              "    }\n",
              "\n",
              "    .colab-df-convert {\n",
              "      background-color: #E8F0FE;\n",
              "      border: none;\n",
              "      border-radius: 50%;\n",
              "      cursor: pointer;\n",
              "      display: none;\n",
              "      fill: #1967D2;\n",
              "      height: 32px;\n",
              "      padding: 0 0 0 0;\n",
              "      width: 32px;\n",
              "    }\n",
              "\n",
              "    .colab-df-convert:hover {\n",
              "      background-color: #E2EBFA;\n",
              "      box-shadow: 0px 1px 2px rgba(60, 64, 67, 0.3), 0px 1px 3px 1px rgba(60, 64, 67, 0.15);\n",
              "      fill: #174EA6;\n",
              "    }\n",
              "\n",
              "    [theme=dark] .colab-df-convert {\n",
              "      background-color: #3B4455;\n",
              "      fill: #D2E3FC;\n",
              "    }\n",
              "\n",
              "    [theme=dark] .colab-df-convert:hover {\n",
              "      background-color: #434B5C;\n",
              "      box-shadow: 0px 1px 3px 1px rgba(0, 0, 0, 0.15);\n",
              "      filter: drop-shadow(0px 1px 2px rgba(0, 0, 0, 0.3));\n",
              "      fill: #FFFFFF;\n",
              "    }\n",
              "  </style>\n",
              "\n",
              "      <script>\n",
              "        const buttonEl =\n",
              "          document.querySelector('#df-10195fae-b7eb-409d-bd01-ceb553e2aeb6 button.colab-df-convert');\n",
              "        buttonEl.style.display =\n",
              "          google.colab.kernel.accessAllowed ? 'block' : 'none';\n",
              "\n",
              "        async function convertToInteractive(key) {\n",
              "          const element = document.querySelector('#df-10195fae-b7eb-409d-bd01-ceb553e2aeb6');\n",
              "          const dataTable =\n",
              "            await google.colab.kernel.invokeFunction('convertToInteractive',\n",
              "                                                     [key], {});\n",
              "          if (!dataTable) return;\n",
              "\n",
              "          const docLinkHtml = 'Like what you see? Visit the ' +\n",
              "            '<a target=\"_blank\" href=https://colab.research.google.com/notebooks/data_table.ipynb>data table notebook</a>'\n",
              "            + ' to learn more about interactive tables.';\n",
              "          element.innerHTML = '';\n",
              "          dataTable['output_type'] = 'display_data';\n",
              "          await google.colab.output.renderOutput(dataTable, element);\n",
              "          const docLink = document.createElement('div');\n",
              "          docLink.innerHTML = docLinkHtml;\n",
              "          element.appendChild(docLink);\n",
              "        }\n",
              "      </script>\n",
              "    </div>\n",
              "  </div>\n",
              "  "
            ]
          },
          "metadata": {},
          "execution_count": 10
        }
      ]
    },
    {
      "cell_type": "code",
      "source": [],
      "metadata": {
        "id": "xispfMnGnQYu"
      },
      "execution_count": 10,
      "outputs": []
    },
    {
      "cell_type": "code",
      "source": [
        "df_train.isna().sum()"
      ],
      "metadata": {
        "colab": {
          "base_uri": "https://localhost:8080/"
        },
        "id": "BOy_8L5NnTb-",
        "outputId": "ccaba56c-9c38-4e9a-9c97-18c462d1847d"
      },
      "execution_count": 11,
      "outputs": [
        {
          "output_type": "execute_result",
          "data": {
            "text/plain": [
              "PRODUCT_ID            0\n",
              "TITLE                 0\n",
              "BULLET_POINTS      1623\n",
              "DESCRIPTION        2255\n",
              "PRODUCT_TYPE_ID       0\n",
              "PRODUCT_LENGTH        0\n",
              "dtype: int64"
            ]
          },
          "metadata": {},
          "execution_count": 11
        }
      ]
    },
    {
      "cell_type": "code",
      "source": [
        "df_train=df_train.dropna()"
      ],
      "metadata": {
        "id": "Kgt8O-BGnWfe"
      },
      "execution_count": 12,
      "outputs": []
    },
    {
      "cell_type": "code",
      "source": [
        "df_train.isna().sum()"
      ],
      "metadata": {
        "colab": {
          "base_uri": "https://localhost:8080/"
        },
        "id": "RsS1fY-sneQO",
        "outputId": "269b9a0c-e3d6-414f-e552-07b2975cf505"
      },
      "execution_count": 13,
      "outputs": [
        {
          "output_type": "execute_result",
          "data": {
            "text/plain": [
              "PRODUCT_ID         0\n",
              "TITLE              0\n",
              "BULLET_POINTS      0\n",
              "DESCRIPTION        0\n",
              "PRODUCT_TYPE_ID    0\n",
              "PRODUCT_LENGTH     0\n",
              "dtype: int64"
            ]
          },
          "metadata": {},
          "execution_count": 13
        }
      ]
    },
    {
      "cell_type": "code",
      "source": [
        "import nltk\n",
        "nltk.download('stopwords')\n",
        "from nltk.corpus import stopwords\n",
        "from nltk.stem.wordnet import WordNetLemmatizer\n",
        "from nltk.tokenize import sent_tokenize, word_tokenize\n",
        "\n",
        "from gensim.models.doc2vec import Doc2Vec, TaggedDocument\n",
        "from sklearn.model_selection import train_test_split"
      ],
      "metadata": {
        "colab": {
          "base_uri": "https://localhost:8080/"
        },
        "id": "49Pxiz7Doajw",
        "outputId": "444bda8c-6235-47fc-f418-77ef0172d912"
      },
      "execution_count": 14,
      "outputs": [
        {
          "output_type": "stream",
          "name": "stderr",
          "text": [
            "[nltk_data] Downloading package stopwords to /root/nltk_data...\n",
            "[nltk_data]   Unzipping corpora/stopwords.zip.\n"
          ]
        }
      ]
    },
    {
      "cell_type": "code",
      "source": [
        "from sklearn.feature_extraction.text import CountVectorizer, TfidfVectorizer\n",
        "from sklearn.preprocessing import LabelBinarizer"
      ],
      "metadata": {
        "id": "WzT1FgbBpl6u"
      },
      "execution_count": 15,
      "outputs": []
    },
    {
      "cell_type": "code",
      "source": [
        "lb = LabelBinarizer(sparse_output=True)\n",
        "tv = TfidfVectorizer(max_features=55000, ngram_range=(1, 2), stop_words='english')"
      ],
      "metadata": {
        "id": "7XHOM-m4prXR"
      },
      "execution_count": 16,
      "outputs": []
    },
    {
      "cell_type": "code",
      "source": [
        "nltk.download('wordnet')"
      ],
      "metadata": {
        "colab": {
          "base_uri": "https://localhost:8080/"
        },
        "id": "2dtTWsw7ojub",
        "outputId": "c18d5770-4225-42be-eeb7-8abb5ce41e64"
      },
      "execution_count": 17,
      "outputs": [
        {
          "output_type": "stream",
          "name": "stderr",
          "text": [
            "[nltk_data] Downloading package wordnet to /root/nltk_data...\n"
          ]
        },
        {
          "output_type": "execute_result",
          "data": {
            "text/plain": [
              "True"
            ]
          },
          "metadata": {},
          "execution_count": 17
        }
      ]
    },
    {
      "cell_type": "code",
      "source": [
        "stop = stopwords.words('english')\n",
        "lem = WordNetLemmatizer()"
      ],
      "metadata": {
        "id": "9A4qsHG2oXX-"
      },
      "execution_count": 18,
      "outputs": []
    },
    {
      "cell_type": "markdown",
      "source": [
        "<b> BULLET POINTS </b>"
      ],
      "metadata": {
        "id": "vcKaigv0sK9R"
      }
    },
    {
      "cell_type": "code",
      "source": [
        "def cleanText(words):\n",
        "    \"\"\"The function to clean text\"\"\"\n",
        "    words = re.sub(\"[^a-zA-Z]\",\" \",words)\n",
        "    text = words.lower().split()\n",
        "    return \" \".join(text)\n",
        "\n",
        "df_train['BULLET_POINTS'] = df_train['BULLET_POINTS'].apply(cleanText)"
      ],
      "metadata": {
        "id": "zGyLY34gnjVe"
      },
      "execution_count": 19,
      "outputs": []
    },
    {
      "cell_type": "code",
      "source": [
        "def remove_stopwords(text):\n",
        "    \"\"\"The function to removing stopwords\"\"\"\n",
        "    text = [word.lower() for word in text.split() if word.lower() not in stop]\n",
        "    return \" \".join(text)"
      ],
      "metadata": {
        "id": "kP_ITI73ody-"
      },
      "execution_count": 20,
      "outputs": []
    },
    {
      "cell_type": "code",
      "source": [
        "def word_lem(text):\n",
        "    \"\"\"The function to apply lemmatizing\"\"\"\n",
        "    lem_text = [lem.lemmatize(word) for word in text.split()]\n",
        "    return \" \".join(lem_text)\n",
        "df_train['BULLET_POINTS'] = df_train['BULLET_POINTS'].apply(remove_stopwords)\n",
        "df_train['BULLET_POINTS'] = df_train['BULLET_POINTS'].apply(word_lem)"
      ],
      "metadata": {
        "id": "P27MKTPiog_e"
      },
      "execution_count": 21,
      "outputs": []
    },
    {
      "cell_type": "code",
      "source": [
        "df_train.head(10)"
      ],
      "metadata": {
        "colab": {
          "base_uri": "https://localhost:8080/",
          "height": 580
        },
        "id": "4JGCO1MToxRQ",
        "outputId": "a050422f-0e35-49a6-c8ab-ddac1cbfb1c9"
      },
      "execution_count": 22,
      "outputs": [
        {
          "output_type": "execute_result",
          "data": {
            "text/plain": [
              "    PRODUCT_ID                                              TITLE  \\\n",
              "2      2765088  PRIKNIK Horn Red Electric Air Horn Compressor ...   \n",
              "3      1594019  ALISHAH Women's Cotton Ankle Length Leggings C...   \n",
              "5      2152929  HINS Metal Bucket Shape Plant Pot for Indoor &...   \n",
              "7      2026580  Delavala Self Adhesive Kitchen Backsplash Wall...   \n",
              "9      2998633  Hexwell Essential oil for Home Fragrance Oil A...   \n",
              "10     2857066  3NH® Glasses Goggles Anti Fog Antis Windproof ...   \n",
              "14     2790448  SEGOVIA Single Walled Stainless Steel Sports| ...   \n",
              "21     2964715  Twisted Swirl Vintage Blue Phone Case Compatib...   \n",
              "25     2120903     JSR CART Incense Cones Rose (Pack of 65 Cones)   \n",
              "27     2273102  Redgem 925 Silver Stud Earrings for Girls and ...   \n",
              "\n",
              "                                        BULLET_POINTS  \\\n",
              "2   loud dual tone trumpet horn compatible sx elec...   \n",
              "3   made cotton lycra give way stretchable comfort...   \n",
              "5   simple elegant great displaying indoor plant l...   \n",
              "7   high quality pvc material kitchen aluminum foi...   \n",
              "9   pure natural essential oil fragrance oil bottl...   \n",
              "10  good quality suitable use product come proper ...   \n",
              "14  segovia bottle consists stainless steel provid...   \n",
              "21  compatible mode mobile phone case compatible i...   \n",
              "25  completed natural herbal fragrance rose order ...   \n",
              "27  gemstone amethyst amethyst well known mineral ...   \n",
              "\n",
              "                                          DESCRIPTION  PRODUCT_TYPE_ID  \\\n",
              "2   Specifications: Color: Red, Material: Aluminiu...             7537   \n",
              "3   AISHAH Women's Lycra Cotton Ankel Leggings. Br...             2996   \n",
              "5   HINS Brings you the most Elegant Looking Pot w...             5725   \n",
              "7   <p><strong>Aluminum Foil Stickers-good kitchen...             6030   \n",
              "9   Transform your home, workplace or hotel room i...             8201   \n",
              "10  3NH Glasses Goggles Anti Fog Antis Windproof A...            10359   \n",
              "14  Segovia bottle consists of stainless steel whi...             1273   \n",
              "21  <b>Welcome to our store. We aim to offer uniqu...            12556   \n",
              "25  PACK OF 65 INCENSE CONES. Best Quality Low Smo...             1582   \n",
              "27  <p>These Stylish Earring for Women and Girls a...             3357   \n",
              "\n",
              "    PRODUCT_LENGTH  \n",
              "2       748.031495  \n",
              "3       787.401574  \n",
              "5       950.000000  \n",
              "7       984.251967  \n",
              "9       393.700787  \n",
              "10      590.551180  \n",
              "14      314.960630  \n",
              "21      577.000000  \n",
              "25      393.700787  \n",
              "27       31.496000  "
            ],
            "text/html": [
              "\n",
              "  <div id=\"df-e842d0ed-95a9-475b-8c1a-61bdff62f175\">\n",
              "    <div class=\"colab-df-container\">\n",
              "      <div>\n",
              "<style scoped>\n",
              "    .dataframe tbody tr th:only-of-type {\n",
              "        vertical-align: middle;\n",
              "    }\n",
              "\n",
              "    .dataframe tbody tr th {\n",
              "        vertical-align: top;\n",
              "    }\n",
              "\n",
              "    .dataframe thead th {\n",
              "        text-align: right;\n",
              "    }\n",
              "</style>\n",
              "<table border=\"1\" class=\"dataframe\">\n",
              "  <thead>\n",
              "    <tr style=\"text-align: right;\">\n",
              "      <th></th>\n",
              "      <th>PRODUCT_ID</th>\n",
              "      <th>TITLE</th>\n",
              "      <th>BULLET_POINTS</th>\n",
              "      <th>DESCRIPTION</th>\n",
              "      <th>PRODUCT_TYPE_ID</th>\n",
              "      <th>PRODUCT_LENGTH</th>\n",
              "    </tr>\n",
              "  </thead>\n",
              "  <tbody>\n",
              "    <tr>\n",
              "      <th>2</th>\n",
              "      <td>2765088</td>\n",
              "      <td>PRIKNIK Horn Red Electric Air Horn Compressor ...</td>\n",
              "      <td>loud dual tone trumpet horn compatible sx elec...</td>\n",
              "      <td>Specifications: Color: Red, Material: Aluminiu...</td>\n",
              "      <td>7537</td>\n",
              "      <td>748.031495</td>\n",
              "    </tr>\n",
              "    <tr>\n",
              "      <th>3</th>\n",
              "      <td>1594019</td>\n",
              "      <td>ALISHAH Women's Cotton Ankle Length Leggings C...</td>\n",
              "      <td>made cotton lycra give way stretchable comfort...</td>\n",
              "      <td>AISHAH Women's Lycra Cotton Ankel Leggings. Br...</td>\n",
              "      <td>2996</td>\n",
              "      <td>787.401574</td>\n",
              "    </tr>\n",
              "    <tr>\n",
              "      <th>5</th>\n",
              "      <td>2152929</td>\n",
              "      <td>HINS Metal Bucket Shape Plant Pot for Indoor &amp;...</td>\n",
              "      <td>simple elegant great displaying indoor plant l...</td>\n",
              "      <td>HINS Brings you the most Elegant Looking Pot w...</td>\n",
              "      <td>5725</td>\n",
              "      <td>950.000000</td>\n",
              "    </tr>\n",
              "    <tr>\n",
              "      <th>7</th>\n",
              "      <td>2026580</td>\n",
              "      <td>Delavala Self Adhesive Kitchen Backsplash Wall...</td>\n",
              "      <td>high quality pvc material kitchen aluminum foi...</td>\n",
              "      <td>&lt;p&gt;&lt;strong&gt;Aluminum Foil Stickers-good kitchen...</td>\n",
              "      <td>6030</td>\n",
              "      <td>984.251967</td>\n",
              "    </tr>\n",
              "    <tr>\n",
              "      <th>9</th>\n",
              "      <td>2998633</td>\n",
              "      <td>Hexwell Essential oil for Home Fragrance Oil A...</td>\n",
              "      <td>pure natural essential oil fragrance oil bottl...</td>\n",
              "      <td>Transform your home, workplace or hotel room i...</td>\n",
              "      <td>8201</td>\n",
              "      <td>393.700787</td>\n",
              "    </tr>\n",
              "    <tr>\n",
              "      <th>10</th>\n",
              "      <td>2857066</td>\n",
              "      <td>3NH® Glasses Goggles Anti Fog Antis Windproof ...</td>\n",
              "      <td>good quality suitable use product come proper ...</td>\n",
              "      <td>3NH Glasses Goggles Anti Fog Antis Windproof A...</td>\n",
              "      <td>10359</td>\n",
              "      <td>590.551180</td>\n",
              "    </tr>\n",
              "    <tr>\n",
              "      <th>14</th>\n",
              "      <td>2790448</td>\n",
              "      <td>SEGOVIA Single Walled Stainless Steel Sports| ...</td>\n",
              "      <td>segovia bottle consists stainless steel provid...</td>\n",
              "      <td>Segovia bottle consists of stainless steel whi...</td>\n",
              "      <td>1273</td>\n",
              "      <td>314.960630</td>\n",
              "    </tr>\n",
              "    <tr>\n",
              "      <th>21</th>\n",
              "      <td>2964715</td>\n",
              "      <td>Twisted Swirl Vintage Blue Phone Case Compatib...</td>\n",
              "      <td>compatible mode mobile phone case compatible i...</td>\n",
              "      <td>&lt;b&gt;Welcome to our store. We aim to offer uniqu...</td>\n",
              "      <td>12556</td>\n",
              "      <td>577.000000</td>\n",
              "    </tr>\n",
              "    <tr>\n",
              "      <th>25</th>\n",
              "      <td>2120903</td>\n",
              "      <td>JSR CART Incense Cones Rose (Pack of 65 Cones)</td>\n",
              "      <td>completed natural herbal fragrance rose order ...</td>\n",
              "      <td>PACK OF 65 INCENSE CONES. Best Quality Low Smo...</td>\n",
              "      <td>1582</td>\n",
              "      <td>393.700787</td>\n",
              "    </tr>\n",
              "    <tr>\n",
              "      <th>27</th>\n",
              "      <td>2273102</td>\n",
              "      <td>Redgem 925 Silver Stud Earrings for Girls and ...</td>\n",
              "      <td>gemstone amethyst amethyst well known mineral ...</td>\n",
              "      <td>&lt;p&gt;These Stylish Earring for Women and Girls a...</td>\n",
              "      <td>3357</td>\n",
              "      <td>31.496000</td>\n",
              "    </tr>\n",
              "  </tbody>\n",
              "</table>\n",
              "</div>\n",
              "      <button class=\"colab-df-convert\" onclick=\"convertToInteractive('df-e842d0ed-95a9-475b-8c1a-61bdff62f175')\"\n",
              "              title=\"Convert this dataframe to an interactive table.\"\n",
              "              style=\"display:none;\">\n",
              "        \n",
              "  <svg xmlns=\"http://www.w3.org/2000/svg\" height=\"24px\"viewBox=\"0 0 24 24\"\n",
              "       width=\"24px\">\n",
              "    <path d=\"M0 0h24v24H0V0z\" fill=\"none\"/>\n",
              "    <path d=\"M18.56 5.44l.94 2.06.94-2.06 2.06-.94-2.06-.94-.94-2.06-.94 2.06-2.06.94zm-11 1L8.5 8.5l.94-2.06 2.06-.94-2.06-.94L8.5 2.5l-.94 2.06-2.06.94zm10 10l.94 2.06.94-2.06 2.06-.94-2.06-.94-.94-2.06-.94 2.06-2.06.94z\"/><path d=\"M17.41 7.96l-1.37-1.37c-.4-.4-.92-.59-1.43-.59-.52 0-1.04.2-1.43.59L10.3 9.45l-7.72 7.72c-.78.78-.78 2.05 0 2.83L4 21.41c.39.39.9.59 1.41.59.51 0 1.02-.2 1.41-.59l7.78-7.78 2.81-2.81c.8-.78.8-2.07 0-2.86zM5.41 20L4 18.59l7.72-7.72 1.47 1.35L5.41 20z\"/>\n",
              "  </svg>\n",
              "      </button>\n",
              "      \n",
              "  <style>\n",
              "    .colab-df-container {\n",
              "      display:flex;\n",
              "      flex-wrap:wrap;\n",
              "      gap: 12px;\n",
              "    }\n",
              "\n",
              "    .colab-df-convert {\n",
              "      background-color: #E8F0FE;\n",
              "      border: none;\n",
              "      border-radius: 50%;\n",
              "      cursor: pointer;\n",
              "      display: none;\n",
              "      fill: #1967D2;\n",
              "      height: 32px;\n",
              "      padding: 0 0 0 0;\n",
              "      width: 32px;\n",
              "    }\n",
              "\n",
              "    .colab-df-convert:hover {\n",
              "      background-color: #E2EBFA;\n",
              "      box-shadow: 0px 1px 2px rgba(60, 64, 67, 0.3), 0px 1px 3px 1px rgba(60, 64, 67, 0.15);\n",
              "      fill: #174EA6;\n",
              "    }\n",
              "\n",
              "    [theme=dark] .colab-df-convert {\n",
              "      background-color: #3B4455;\n",
              "      fill: #D2E3FC;\n",
              "    }\n",
              "\n",
              "    [theme=dark] .colab-df-convert:hover {\n",
              "      background-color: #434B5C;\n",
              "      box-shadow: 0px 1px 3px 1px rgba(0, 0, 0, 0.15);\n",
              "      filter: drop-shadow(0px 1px 2px rgba(0, 0, 0, 0.3));\n",
              "      fill: #FFFFFF;\n",
              "    }\n",
              "  </style>\n",
              "\n",
              "      <script>\n",
              "        const buttonEl =\n",
              "          document.querySelector('#df-e842d0ed-95a9-475b-8c1a-61bdff62f175 button.colab-df-convert');\n",
              "        buttonEl.style.display =\n",
              "          google.colab.kernel.accessAllowed ? 'block' : 'none';\n",
              "\n",
              "        async function convertToInteractive(key) {\n",
              "          const element = document.querySelector('#df-e842d0ed-95a9-475b-8c1a-61bdff62f175');\n",
              "          const dataTable =\n",
              "            await google.colab.kernel.invokeFunction('convertToInteractive',\n",
              "                                                     [key], {});\n",
              "          if (!dataTable) return;\n",
              "\n",
              "          const docLinkHtml = 'Like what you see? Visit the ' +\n",
              "            '<a target=\"_blank\" href=https://colab.research.google.com/notebooks/data_table.ipynb>data table notebook</a>'\n",
              "            + ' to learn more about interactive tables.';\n",
              "          element.innerHTML = '';\n",
              "          dataTable['output_type'] = 'display_data';\n",
              "          await google.colab.output.renderOutput(dataTable, element);\n",
              "          const docLink = document.createElement('div');\n",
              "          docLink.innerHTML = docLinkHtml;\n",
              "          element.appendChild(docLink);\n",
              "        }\n",
              "      </script>\n",
              "    </div>\n",
              "  </div>\n",
              "  "
            ]
          },
          "metadata": {},
          "execution_count": 22
        }
      ]
    },
    {
      "cell_type": "code",
      "source": [
        "df_train['BULLET_POINTS'] = df_train['BULLET_POINTS'].astype(str)\n",
        "print(df_train['BULLET_POINTS'].apply(lambda x: len(x.split(' '))).sum())"
      ],
      "metadata": {
        "colab": {
          "base_uri": "https://localhost:8080/"
        },
        "id": "4KE9yI6Ro20v",
        "outputId": "062c3b6f-76bc-423a-8fc3-a967c17199cd"
      },
      "execution_count": 23,
      "outputs": [
        {
          "output_type": "stream",
          "name": "stdout",
          "text": [
            "116474\n"
          ]
        }
      ]
    },
    {
      "cell_type": "code",
      "source": [
        "import string\n",
        "# Create a function to remove punctuations\n",
        "def remove_punctuation(sentence: str) -> str:\n",
        "    return sentence.translate(str.maketrans('', '', string.punctuation))"
      ],
      "metadata": {
        "id": "jiOitumXo-R-"
      },
      "execution_count": 24,
      "outputs": []
    },
    {
      "cell_type": "code",
      "source": [
        "from nltk.stem.porter import PorterStemmer\n",
        "porter = PorterStemmer()\n",
        "df_train['BULLET_POINTS'] = df_train['BULLET_POINTS'].apply(porter.stem)\n",
        "df_train['BULLET_POINTS'] = df_train['BULLET_POINTS'].apply(remove_punctuation)"
      ],
      "metadata": {
        "id": "yWONbqn1pEce"
      },
      "execution_count": 25,
      "outputs": []
    },
    {
      "cell_type": "code",
      "source": [
        "from sklearn.feature_extraction.text import CountVectorizer,TfidfVectorizer\n",
        "# CountVectorizer - name & categories\n",
        "cv = CountVectorizer(min_df=10)\n",
        "X_name = cv.fit_transform(df_train['BULLET_POINTS'])"
      ],
      "metadata": {
        "id": "7_ura1sOpNcv"
      },
      "execution_count": 26,
      "outputs": []
    },
    {
      "cell_type": "code",
      "source": [
        "from collections import Counter\n",
        "def reducecolumns(Col):\n",
        "    # remove columns with <= 1% non-zero entries (arbitrary choice so that notebook doesn't crash)\n",
        "    n_docs = Counter(Col.nonzero()[1])\n",
        "    cols_to_keep = [k for k, v in n_docs.items() if v > .0005 * Col.shape[0]]\n",
        "    return Col[:, cols_to_keep]"
      ],
      "metadata": {
        "id": "s0nY2h9HpW5_"
      },
      "execution_count": 27,
      "outputs": []
    },
    {
      "cell_type": "code",
      "source": [
        "print(\"Item Name Shape: \" + str(reducecolumns(X_name).shape))"
      ],
      "metadata": {
        "colab": {
          "base_uri": "https://localhost:8080/"
        },
        "id": "4LlK66kVpdmu",
        "outputId": "26fc76fd-7666-4f39-881b-b35e5678bbb3"
      },
      "execution_count": 28,
      "outputs": [
        {
          "output_type": "stream",
          "name": "stdout",
          "text": [
            "Item Name Shape: (1962, 1651)\n"
          ]
        }
      ]
    },
    {
      "cell_type": "code",
      "source": [
        "X_brand1 = lb.fit_transform(df_train['BULLET_POINTS'])\n",
        "X_description1 = tv.fit_transform(df_train['BULLET_POINTS'])"
      ],
      "metadata": {
        "id": "dEeRcf_ppfh-"
      },
      "execution_count": 29,
      "outputs": []
    },
    {
      "cell_type": "code",
      "source": [
        "tfidf_weights = dict(zip(tv.get_feature_names_out(), tv.idf_))\n",
        "tfidf_weights = pd.DataFrame(columns = ['BULLET_POINTS']).from_dict(dict(tfidf_weights), orient = 'index')\n",
        "tfidf_weights.columns = ['BULLET_POINTS']\n",
        "\n",
        "#Lowest tfidf scores -  Highest frequency words that get most importance:\n",
        "tfidf_weights.sort_values(by=['BULLET_POINTS'], ascending=True).head(10)"
      ],
      "metadata": {
        "colab": {
          "base_uri": "https://localhost:8080/",
          "height": 363
        },
        "id": "fKxPE57Uph2-",
        "outputId": "2d8960cc-d114-42a6-bf05-9c57499e0fd7"
      },
      "execution_count": 30,
      "outputs": [
        {
          "output_type": "execute_result",
          "data": {
            "text/plain": [
              "          BULLET_POINTS\n",
              "material       2.188638\n",
              "quality        2.203803\n",
              "easy           2.268681\n",
              "design         2.309352\n",
              "size           2.371629\n",
              "high           2.393965\n",
              "use            2.504587\n",
              "color          2.530140\n",
              "product        2.553951\n",
              "perfect        2.556363"
            ],
            "text/html": [
              "\n",
              "  <div id=\"df-d05bce4b-3f3b-4076-8293-ae19c9d8e834\">\n",
              "    <div class=\"colab-df-container\">\n",
              "      <div>\n",
              "<style scoped>\n",
              "    .dataframe tbody tr th:only-of-type {\n",
              "        vertical-align: middle;\n",
              "    }\n",
              "\n",
              "    .dataframe tbody tr th {\n",
              "        vertical-align: top;\n",
              "    }\n",
              "\n",
              "    .dataframe thead th {\n",
              "        text-align: right;\n",
              "    }\n",
              "</style>\n",
              "<table border=\"1\" class=\"dataframe\">\n",
              "  <thead>\n",
              "    <tr style=\"text-align: right;\">\n",
              "      <th></th>\n",
              "      <th>BULLET_POINTS</th>\n",
              "    </tr>\n",
              "  </thead>\n",
              "  <tbody>\n",
              "    <tr>\n",
              "      <th>material</th>\n",
              "      <td>2.188638</td>\n",
              "    </tr>\n",
              "    <tr>\n",
              "      <th>quality</th>\n",
              "      <td>2.203803</td>\n",
              "    </tr>\n",
              "    <tr>\n",
              "      <th>easy</th>\n",
              "      <td>2.268681</td>\n",
              "    </tr>\n",
              "    <tr>\n",
              "      <th>design</th>\n",
              "      <td>2.309352</td>\n",
              "    </tr>\n",
              "    <tr>\n",
              "      <th>size</th>\n",
              "      <td>2.371629</td>\n",
              "    </tr>\n",
              "    <tr>\n",
              "      <th>high</th>\n",
              "      <td>2.393965</td>\n",
              "    </tr>\n",
              "    <tr>\n",
              "      <th>use</th>\n",
              "      <td>2.504587</td>\n",
              "    </tr>\n",
              "    <tr>\n",
              "      <th>color</th>\n",
              "      <td>2.530140</td>\n",
              "    </tr>\n",
              "    <tr>\n",
              "      <th>product</th>\n",
              "      <td>2.553951</td>\n",
              "    </tr>\n",
              "    <tr>\n",
              "      <th>perfect</th>\n",
              "      <td>2.556363</td>\n",
              "    </tr>\n",
              "  </tbody>\n",
              "</table>\n",
              "</div>\n",
              "      <button class=\"colab-df-convert\" onclick=\"convertToInteractive('df-d05bce4b-3f3b-4076-8293-ae19c9d8e834')\"\n",
              "              title=\"Convert this dataframe to an interactive table.\"\n",
              "              style=\"display:none;\">\n",
              "        \n",
              "  <svg xmlns=\"http://www.w3.org/2000/svg\" height=\"24px\"viewBox=\"0 0 24 24\"\n",
              "       width=\"24px\">\n",
              "    <path d=\"M0 0h24v24H0V0z\" fill=\"none\"/>\n",
              "    <path d=\"M18.56 5.44l.94 2.06.94-2.06 2.06-.94-2.06-.94-.94-2.06-.94 2.06-2.06.94zm-11 1L8.5 8.5l.94-2.06 2.06-.94-2.06-.94L8.5 2.5l-.94 2.06-2.06.94zm10 10l.94 2.06.94-2.06 2.06-.94-2.06-.94-.94-2.06-.94 2.06-2.06.94z\"/><path d=\"M17.41 7.96l-1.37-1.37c-.4-.4-.92-.59-1.43-.59-.52 0-1.04.2-1.43.59L10.3 9.45l-7.72 7.72c-.78.78-.78 2.05 0 2.83L4 21.41c.39.39.9.59 1.41.59.51 0 1.02-.2 1.41-.59l7.78-7.78 2.81-2.81c.8-.78.8-2.07 0-2.86zM5.41 20L4 18.59l7.72-7.72 1.47 1.35L5.41 20z\"/>\n",
              "  </svg>\n",
              "      </button>\n",
              "      \n",
              "  <style>\n",
              "    .colab-df-container {\n",
              "      display:flex;\n",
              "      flex-wrap:wrap;\n",
              "      gap: 12px;\n",
              "    }\n",
              "\n",
              "    .colab-df-convert {\n",
              "      background-color: #E8F0FE;\n",
              "      border: none;\n",
              "      border-radius: 50%;\n",
              "      cursor: pointer;\n",
              "      display: none;\n",
              "      fill: #1967D2;\n",
              "      height: 32px;\n",
              "      padding: 0 0 0 0;\n",
              "      width: 32px;\n",
              "    }\n",
              "\n",
              "    .colab-df-convert:hover {\n",
              "      background-color: #E2EBFA;\n",
              "      box-shadow: 0px 1px 2px rgba(60, 64, 67, 0.3), 0px 1px 3px 1px rgba(60, 64, 67, 0.15);\n",
              "      fill: #174EA6;\n",
              "    }\n",
              "\n",
              "    [theme=dark] .colab-df-convert {\n",
              "      background-color: #3B4455;\n",
              "      fill: #D2E3FC;\n",
              "    }\n",
              "\n",
              "    [theme=dark] .colab-df-convert:hover {\n",
              "      background-color: #434B5C;\n",
              "      box-shadow: 0px 1px 3px 1px rgba(0, 0, 0, 0.15);\n",
              "      filter: drop-shadow(0px 1px 2px rgba(0, 0, 0, 0.3));\n",
              "      fill: #FFFFFF;\n",
              "    }\n",
              "  </style>\n",
              "\n",
              "      <script>\n",
              "        const buttonEl =\n",
              "          document.querySelector('#df-d05bce4b-3f3b-4076-8293-ae19c9d8e834 button.colab-df-convert');\n",
              "        buttonEl.style.display =\n",
              "          google.colab.kernel.accessAllowed ? 'block' : 'none';\n",
              "\n",
              "        async function convertToInteractive(key) {\n",
              "          const element = document.querySelector('#df-d05bce4b-3f3b-4076-8293-ae19c9d8e834');\n",
              "          const dataTable =\n",
              "            await google.colab.kernel.invokeFunction('convertToInteractive',\n",
              "                                                     [key], {});\n",
              "          if (!dataTable) return;\n",
              "\n",
              "          const docLinkHtml = 'Like what you see? Visit the ' +\n",
              "            '<a target=\"_blank\" href=https://colab.research.google.com/notebooks/data_table.ipynb>data table notebook</a>'\n",
              "            + ' to learn more about interactive tables.';\n",
              "          element.innerHTML = '';\n",
              "          dataTable['output_type'] = 'display_data';\n",
              "          await google.colab.output.renderOutput(dataTable, element);\n",
              "          const docLink = document.createElement('div');\n",
              "          docLink.innerHTML = docLinkHtml;\n",
              "          element.appendChild(docLink);\n",
              "        }\n",
              "      </script>\n",
              "    </div>\n",
              "  </div>\n",
              "  "
            ]
          },
          "metadata": {},
          "execution_count": 30
        }
      ]
    },
    {
      "cell_type": "markdown",
      "source": [
        "<b> DESCRIPTION </b>"
      ],
      "metadata": {
        "id": "zPVoCdggsQS4"
      }
    },
    {
      "cell_type": "code",
      "source": [
        "def cleanText(words):\n",
        "    \"\"\"The function to clean text\"\"\"\n",
        "    words = re.sub(\"[^a-zA-Z]\",\" \",words)\n",
        "    text = words.lower().split()\n",
        "    return \" \".join(text)\n",
        "\n",
        "df_train['DESCRIPTION'] = df_train['DESCRIPTION'].apply(cleanText)"
      ],
      "metadata": {
        "id": "x2oxQ9E1q-h-"
      },
      "execution_count": 31,
      "outputs": []
    },
    {
      "cell_type": "code",
      "source": [
        "def remove_stopwords(text):\n",
        "    \"\"\"The function to removing stopwords\"\"\"\n",
        "    text = [word.lower() for word in text.split() if word.lower() not in stop]\n",
        "    return \" \".join(text)"
      ],
      "metadata": {
        "id": "NaMEOPW-tNXQ"
      },
      "execution_count": 32,
      "outputs": []
    },
    {
      "cell_type": "code",
      "source": [
        "def word_lem(text):\n",
        "    \"\"\"The function to apply lemmatizing\"\"\"\n",
        "    lem_text = [lem.lemmatize(word) for word in text.split()]\n",
        "    return \" \".join(lem_text)\n",
        "df_train['DESCRIPTION'] = df_train['DESCRIPTION'].apply(remove_stopwords)\n",
        "df_train['DESCRIPTION'] = df_train['DESCRIPTION'].apply(word_lem)"
      ],
      "metadata": {
        "id": "tUAwjoartO1e"
      },
      "execution_count": 33,
      "outputs": []
    },
    {
      "cell_type": "code",
      "source": [
        "df_train.head(10)"
      ],
      "metadata": {
        "colab": {
          "base_uri": "https://localhost:8080/",
          "height": 580
        },
        "id": "oNPhXAIstdCw",
        "outputId": "b2b56813-5f00-497f-996f-7ed72854d779"
      },
      "execution_count": 34,
      "outputs": [
        {
          "output_type": "execute_result",
          "data": {
            "text/plain": [
              "    PRODUCT_ID                                              TITLE  \\\n",
              "2      2765088  PRIKNIK Horn Red Electric Air Horn Compressor ...   \n",
              "3      1594019  ALISHAH Women's Cotton Ankle Length Leggings C...   \n",
              "5      2152929  HINS Metal Bucket Shape Plant Pot for Indoor &...   \n",
              "7      2026580  Delavala Self Adhesive Kitchen Backsplash Wall...   \n",
              "9      2998633  Hexwell Essential oil for Home Fragrance Oil A...   \n",
              "10     2857066  3NH® Glasses Goggles Anti Fog Antis Windproof ...   \n",
              "14     2790448  SEGOVIA Single Walled Stainless Steel Sports| ...   \n",
              "21     2964715  Twisted Swirl Vintage Blue Phone Case Compatib...   \n",
              "25     2120903     JSR CART Incense Cones Rose (Pack of 65 Cones)   \n",
              "27     2273102  Redgem 925 Silver Stud Earrings for Girls and ...   \n",
              "\n",
              "                                        BULLET_POINTS  \\\n",
              "2   loud dual tone trumpet horn compatible sx elec...   \n",
              "3   made cotton lycra give way stretchable comfort...   \n",
              "5   simple elegant great displaying indoor plant l...   \n",
              "7   high quality pvc material kitchen aluminum foi...   \n",
              "9   pure natural essential oil fragrance oil bottl...   \n",
              "10  good quality suitable use product come proper ...   \n",
              "14  segovia bottle consists stainless steel provid...   \n",
              "21  compatible mode mobile phone case compatible i...   \n",
              "25  completed natural herbal fragrance rose order ...   \n",
              "27  gemstone amethyst amethyst well known mineral ...   \n",
              "\n",
              "                                          DESCRIPTION  PRODUCT_TYPE_ID  \\\n",
              "2   specification color red material aluminium vol...             7537   \n",
              "3   aishah woman lycra cotton ankel legging brand ...             2996   \n",
              "5   hin brings elegant looking pot stand durable l...             5725   \n",
              "7   p strong aluminum foil sticker good kitchen he...             6030   \n",
              "9   transform home workplace hotel room personal a...             8201   \n",
              "10  nh glass goggles anti fog anti windproof anti ...            10359   \n",
              "14  segovia bottle consists stainless steel provid...             1273   \n",
              "21  b welcome store aim offer unique special case ...            12556   \n",
              "25  pack incense cone best quality low smoke dhoop...             1582   \n",
              "27  p stylish earring woman girl handcrafted love ...             3357   \n",
              "\n",
              "    PRODUCT_LENGTH  \n",
              "2       748.031495  \n",
              "3       787.401574  \n",
              "5       950.000000  \n",
              "7       984.251967  \n",
              "9       393.700787  \n",
              "10      590.551180  \n",
              "14      314.960630  \n",
              "21      577.000000  \n",
              "25      393.700787  \n",
              "27       31.496000  "
            ],
            "text/html": [
              "\n",
              "  <div id=\"df-43e91ea9-fa9c-4719-9a17-6c6d4b8e0824\">\n",
              "    <div class=\"colab-df-container\">\n",
              "      <div>\n",
              "<style scoped>\n",
              "    .dataframe tbody tr th:only-of-type {\n",
              "        vertical-align: middle;\n",
              "    }\n",
              "\n",
              "    .dataframe tbody tr th {\n",
              "        vertical-align: top;\n",
              "    }\n",
              "\n",
              "    .dataframe thead th {\n",
              "        text-align: right;\n",
              "    }\n",
              "</style>\n",
              "<table border=\"1\" class=\"dataframe\">\n",
              "  <thead>\n",
              "    <tr style=\"text-align: right;\">\n",
              "      <th></th>\n",
              "      <th>PRODUCT_ID</th>\n",
              "      <th>TITLE</th>\n",
              "      <th>BULLET_POINTS</th>\n",
              "      <th>DESCRIPTION</th>\n",
              "      <th>PRODUCT_TYPE_ID</th>\n",
              "      <th>PRODUCT_LENGTH</th>\n",
              "    </tr>\n",
              "  </thead>\n",
              "  <tbody>\n",
              "    <tr>\n",
              "      <th>2</th>\n",
              "      <td>2765088</td>\n",
              "      <td>PRIKNIK Horn Red Electric Air Horn Compressor ...</td>\n",
              "      <td>loud dual tone trumpet horn compatible sx elec...</td>\n",
              "      <td>specification color red material aluminium vol...</td>\n",
              "      <td>7537</td>\n",
              "      <td>748.031495</td>\n",
              "    </tr>\n",
              "    <tr>\n",
              "      <th>3</th>\n",
              "      <td>1594019</td>\n",
              "      <td>ALISHAH Women's Cotton Ankle Length Leggings C...</td>\n",
              "      <td>made cotton lycra give way stretchable comfort...</td>\n",
              "      <td>aishah woman lycra cotton ankel legging brand ...</td>\n",
              "      <td>2996</td>\n",
              "      <td>787.401574</td>\n",
              "    </tr>\n",
              "    <tr>\n",
              "      <th>5</th>\n",
              "      <td>2152929</td>\n",
              "      <td>HINS Metal Bucket Shape Plant Pot for Indoor &amp;...</td>\n",
              "      <td>simple elegant great displaying indoor plant l...</td>\n",
              "      <td>hin brings elegant looking pot stand durable l...</td>\n",
              "      <td>5725</td>\n",
              "      <td>950.000000</td>\n",
              "    </tr>\n",
              "    <tr>\n",
              "      <th>7</th>\n",
              "      <td>2026580</td>\n",
              "      <td>Delavala Self Adhesive Kitchen Backsplash Wall...</td>\n",
              "      <td>high quality pvc material kitchen aluminum foi...</td>\n",
              "      <td>p strong aluminum foil sticker good kitchen he...</td>\n",
              "      <td>6030</td>\n",
              "      <td>984.251967</td>\n",
              "    </tr>\n",
              "    <tr>\n",
              "      <th>9</th>\n",
              "      <td>2998633</td>\n",
              "      <td>Hexwell Essential oil for Home Fragrance Oil A...</td>\n",
              "      <td>pure natural essential oil fragrance oil bottl...</td>\n",
              "      <td>transform home workplace hotel room personal a...</td>\n",
              "      <td>8201</td>\n",
              "      <td>393.700787</td>\n",
              "    </tr>\n",
              "    <tr>\n",
              "      <th>10</th>\n",
              "      <td>2857066</td>\n",
              "      <td>3NH® Glasses Goggles Anti Fog Antis Windproof ...</td>\n",
              "      <td>good quality suitable use product come proper ...</td>\n",
              "      <td>nh glass goggles anti fog anti windproof anti ...</td>\n",
              "      <td>10359</td>\n",
              "      <td>590.551180</td>\n",
              "    </tr>\n",
              "    <tr>\n",
              "      <th>14</th>\n",
              "      <td>2790448</td>\n",
              "      <td>SEGOVIA Single Walled Stainless Steel Sports| ...</td>\n",
              "      <td>segovia bottle consists stainless steel provid...</td>\n",
              "      <td>segovia bottle consists stainless steel provid...</td>\n",
              "      <td>1273</td>\n",
              "      <td>314.960630</td>\n",
              "    </tr>\n",
              "    <tr>\n",
              "      <th>21</th>\n",
              "      <td>2964715</td>\n",
              "      <td>Twisted Swirl Vintage Blue Phone Case Compatib...</td>\n",
              "      <td>compatible mode mobile phone case compatible i...</td>\n",
              "      <td>b welcome store aim offer unique special case ...</td>\n",
              "      <td>12556</td>\n",
              "      <td>577.000000</td>\n",
              "    </tr>\n",
              "    <tr>\n",
              "      <th>25</th>\n",
              "      <td>2120903</td>\n",
              "      <td>JSR CART Incense Cones Rose (Pack of 65 Cones)</td>\n",
              "      <td>completed natural herbal fragrance rose order ...</td>\n",
              "      <td>pack incense cone best quality low smoke dhoop...</td>\n",
              "      <td>1582</td>\n",
              "      <td>393.700787</td>\n",
              "    </tr>\n",
              "    <tr>\n",
              "      <th>27</th>\n",
              "      <td>2273102</td>\n",
              "      <td>Redgem 925 Silver Stud Earrings for Girls and ...</td>\n",
              "      <td>gemstone amethyst amethyst well known mineral ...</td>\n",
              "      <td>p stylish earring woman girl handcrafted love ...</td>\n",
              "      <td>3357</td>\n",
              "      <td>31.496000</td>\n",
              "    </tr>\n",
              "  </tbody>\n",
              "</table>\n",
              "</div>\n",
              "      <button class=\"colab-df-convert\" onclick=\"convertToInteractive('df-43e91ea9-fa9c-4719-9a17-6c6d4b8e0824')\"\n",
              "              title=\"Convert this dataframe to an interactive table.\"\n",
              "              style=\"display:none;\">\n",
              "        \n",
              "  <svg xmlns=\"http://www.w3.org/2000/svg\" height=\"24px\"viewBox=\"0 0 24 24\"\n",
              "       width=\"24px\">\n",
              "    <path d=\"M0 0h24v24H0V0z\" fill=\"none\"/>\n",
              "    <path d=\"M18.56 5.44l.94 2.06.94-2.06 2.06-.94-2.06-.94-.94-2.06-.94 2.06-2.06.94zm-11 1L8.5 8.5l.94-2.06 2.06-.94-2.06-.94L8.5 2.5l-.94 2.06-2.06.94zm10 10l.94 2.06.94-2.06 2.06-.94-2.06-.94-.94-2.06-.94 2.06-2.06.94z\"/><path d=\"M17.41 7.96l-1.37-1.37c-.4-.4-.92-.59-1.43-.59-.52 0-1.04.2-1.43.59L10.3 9.45l-7.72 7.72c-.78.78-.78 2.05 0 2.83L4 21.41c.39.39.9.59 1.41.59.51 0 1.02-.2 1.41-.59l7.78-7.78 2.81-2.81c.8-.78.8-2.07 0-2.86zM5.41 20L4 18.59l7.72-7.72 1.47 1.35L5.41 20z\"/>\n",
              "  </svg>\n",
              "      </button>\n",
              "      \n",
              "  <style>\n",
              "    .colab-df-container {\n",
              "      display:flex;\n",
              "      flex-wrap:wrap;\n",
              "      gap: 12px;\n",
              "    }\n",
              "\n",
              "    .colab-df-convert {\n",
              "      background-color: #E8F0FE;\n",
              "      border: none;\n",
              "      border-radius: 50%;\n",
              "      cursor: pointer;\n",
              "      display: none;\n",
              "      fill: #1967D2;\n",
              "      height: 32px;\n",
              "      padding: 0 0 0 0;\n",
              "      width: 32px;\n",
              "    }\n",
              "\n",
              "    .colab-df-convert:hover {\n",
              "      background-color: #E2EBFA;\n",
              "      box-shadow: 0px 1px 2px rgba(60, 64, 67, 0.3), 0px 1px 3px 1px rgba(60, 64, 67, 0.15);\n",
              "      fill: #174EA6;\n",
              "    }\n",
              "\n",
              "    [theme=dark] .colab-df-convert {\n",
              "      background-color: #3B4455;\n",
              "      fill: #D2E3FC;\n",
              "    }\n",
              "\n",
              "    [theme=dark] .colab-df-convert:hover {\n",
              "      background-color: #434B5C;\n",
              "      box-shadow: 0px 1px 3px 1px rgba(0, 0, 0, 0.15);\n",
              "      filter: drop-shadow(0px 1px 2px rgba(0, 0, 0, 0.3));\n",
              "      fill: #FFFFFF;\n",
              "    }\n",
              "  </style>\n",
              "\n",
              "      <script>\n",
              "        const buttonEl =\n",
              "          document.querySelector('#df-43e91ea9-fa9c-4719-9a17-6c6d4b8e0824 button.colab-df-convert');\n",
              "        buttonEl.style.display =\n",
              "          google.colab.kernel.accessAllowed ? 'block' : 'none';\n",
              "\n",
              "        async function convertToInteractive(key) {\n",
              "          const element = document.querySelector('#df-43e91ea9-fa9c-4719-9a17-6c6d4b8e0824');\n",
              "          const dataTable =\n",
              "            await google.colab.kernel.invokeFunction('convertToInteractive',\n",
              "                                                     [key], {});\n",
              "          if (!dataTable) return;\n",
              "\n",
              "          const docLinkHtml = 'Like what you see? Visit the ' +\n",
              "            '<a target=\"_blank\" href=https://colab.research.google.com/notebooks/data_table.ipynb>data table notebook</a>'\n",
              "            + ' to learn more about interactive tables.';\n",
              "          element.innerHTML = '';\n",
              "          dataTable['output_type'] = 'display_data';\n",
              "          await google.colab.output.renderOutput(dataTable, element);\n",
              "          const docLink = document.createElement('div');\n",
              "          docLink.innerHTML = docLinkHtml;\n",
              "          element.appendChild(docLink);\n",
              "        }\n",
              "      </script>\n",
              "    </div>\n",
              "  </div>\n",
              "  "
            ]
          },
          "metadata": {},
          "execution_count": 34
        }
      ]
    },
    {
      "cell_type": "code",
      "source": [
        "df_train['DESCRIPTION'] = df_train['DESCRIPTION'].astype(str)\n",
        "print(df_train['DESCRIPTION'].apply(lambda x: len(x.split(' '))).sum())"
      ],
      "metadata": {
        "colab": {
          "base_uri": "https://localhost:8080/"
        },
        "id": "1t-slXVAtmSf",
        "outputId": "d6d35b46-7627-4f30-d2cd-3a45b1f1fd03"
      },
      "execution_count": 35,
      "outputs": [
        {
          "output_type": "stream",
          "name": "stdout",
          "text": [
            "142729\n"
          ]
        }
      ]
    },
    {
      "cell_type": "code",
      "source": [
        "import string\n",
        "# Create a function to remove punctuations\n",
        "def remove_punctuation(sentence: str) -> str:\n",
        "    return sentence.translate(str.maketrans('', '', string.punctuation))"
      ],
      "metadata": {
        "id": "037IAO4RuD2P"
      },
      "execution_count": 36,
      "outputs": []
    },
    {
      "cell_type": "code",
      "source": [
        "from nltk.stem.porter import PorterStemmer\n",
        "porter = PorterStemmer()\n",
        "df_train['DECSRIPTION'] = df_train['DESCRIPTION'].apply(porter.stem)\n",
        "df_train['DESCRIPTION'] = df_train['DESCRIPTION'].apply(remove_punctuation)"
      ],
      "metadata": {
        "id": "cT5PH5K1uNjO"
      },
      "execution_count": 37,
      "outputs": []
    },
    {
      "cell_type": "code",
      "source": [
        "from sklearn.feature_extraction.text import CountVectorizer,TfidfVectorizer\n",
        "# CountVectorizer - name & categories\n",
        "cv = CountVectorizer(min_df=10)\n",
        "X_name2 = cv.fit_transform(df_train['DESCRIPTION'])"
      ],
      "metadata": {
        "id": "KamD0jFuuYRe"
      },
      "execution_count": 38,
      "outputs": []
    },
    {
      "cell_type": "code",
      "source": [
        "from collections import Counter\n",
        "def reducecolumns(Col):\n",
        "    # remove columns with <= 1% non-zero entries (arbitrary choice so that notebook doesn't crash)\n",
        "    n_docs = Counter(Col.nonzero()[1])\n",
        "    cols_to_keep = [k for k, v in n_docs.items() if v > .0005 * Col.shape[0]]\n",
        "    return Col[:, cols_to_keep]"
      ],
      "metadata": {
        "id": "CYJKgAvZuuvq"
      },
      "execution_count": 39,
      "outputs": []
    },
    {
      "cell_type": "code",
      "source": [
        "print(\"Item Name Shape: \" + str(reducecolumns(X_name2).shape))"
      ],
      "metadata": {
        "colab": {
          "base_uri": "https://localhost:8080/"
        },
        "id": "RQPckPCnuy0O",
        "outputId": "82c15f55-e695-4d3d-b5ce-239c88ebd0cd"
      },
      "execution_count": 40,
      "outputs": [
        {
          "output_type": "stream",
          "name": "stdout",
          "text": [
            "Item Name Shape: (1962, 1786)\n"
          ]
        }
      ]
    },
    {
      "cell_type": "code",
      "source": [
        "X_brand2 = lb.fit_transform(df_train['DESCRIPTION'])\n",
        "X_description2 = tv.fit_transform(df_train['DESCRIPTION'])"
      ],
      "metadata": {
        "id": "go56ABPXu7ku"
      },
      "execution_count": 41,
      "outputs": []
    },
    {
      "cell_type": "code",
      "source": [
        "tfidf_weights = dict(zip(tv.get_feature_names_out(), tv.idf_))\n",
        "tfidf_weights = pd.DataFrame(columns = ['DESCRIPTION']).from_dict(dict(tfidf_weights), orient = 'index')\n",
        "tfidf_weights.columns = ['DESCRIPTION']\n",
        "\n",
        "#Lowest tfidf scores -  Highest frequency words that get most importance:\n",
        "tfidf_weights.sort_values(by=['DESCRIPTION'], ascending=True).head(10)"
      ],
      "metadata": {
        "colab": {
          "base_uri": "https://localhost:8080/",
          "height": 363
        },
        "id": "sckvx7znvFQ-",
        "outputId": "1ba22dc5-069f-4a88-f0b9-63c21abef14a"
      },
      "execution_count": 42,
      "outputs": [
        {
          "output_type": "execute_result",
          "data": {
            "text/plain": [
              "          DESCRIPTION\n",
              "quality      2.322648\n",
              "design       2.359653\n",
              "color        2.393965\n",
              "material     2.408443\n",
              "size         2.472982\n",
              "product      2.530140\n",
              "br           2.532496\n",
              "easy         2.558782\n",
              "high         2.588268\n",
              "make         2.628986"
            ],
            "text/html": [
              "\n",
              "  <div id=\"df-0768fb4a-1c63-4234-8c45-89e032aca69b\">\n",
              "    <div class=\"colab-df-container\">\n",
              "      <div>\n",
              "<style scoped>\n",
              "    .dataframe tbody tr th:only-of-type {\n",
              "        vertical-align: middle;\n",
              "    }\n",
              "\n",
              "    .dataframe tbody tr th {\n",
              "        vertical-align: top;\n",
              "    }\n",
              "\n",
              "    .dataframe thead th {\n",
              "        text-align: right;\n",
              "    }\n",
              "</style>\n",
              "<table border=\"1\" class=\"dataframe\">\n",
              "  <thead>\n",
              "    <tr style=\"text-align: right;\">\n",
              "      <th></th>\n",
              "      <th>DESCRIPTION</th>\n",
              "    </tr>\n",
              "  </thead>\n",
              "  <tbody>\n",
              "    <tr>\n",
              "      <th>quality</th>\n",
              "      <td>2.322648</td>\n",
              "    </tr>\n",
              "    <tr>\n",
              "      <th>design</th>\n",
              "      <td>2.359653</td>\n",
              "    </tr>\n",
              "    <tr>\n",
              "      <th>color</th>\n",
              "      <td>2.393965</td>\n",
              "    </tr>\n",
              "    <tr>\n",
              "      <th>material</th>\n",
              "      <td>2.408443</td>\n",
              "    </tr>\n",
              "    <tr>\n",
              "      <th>size</th>\n",
              "      <td>2.472982</td>\n",
              "    </tr>\n",
              "    <tr>\n",
              "      <th>product</th>\n",
              "      <td>2.530140</td>\n",
              "    </tr>\n",
              "    <tr>\n",
              "      <th>br</th>\n",
              "      <td>2.532496</td>\n",
              "    </tr>\n",
              "    <tr>\n",
              "      <th>easy</th>\n",
              "      <td>2.558782</td>\n",
              "    </tr>\n",
              "    <tr>\n",
              "      <th>high</th>\n",
              "      <td>2.588268</td>\n",
              "    </tr>\n",
              "    <tr>\n",
              "      <th>make</th>\n",
              "      <td>2.628986</td>\n",
              "    </tr>\n",
              "  </tbody>\n",
              "</table>\n",
              "</div>\n",
              "      <button class=\"colab-df-convert\" onclick=\"convertToInteractive('df-0768fb4a-1c63-4234-8c45-89e032aca69b')\"\n",
              "              title=\"Convert this dataframe to an interactive table.\"\n",
              "              style=\"display:none;\">\n",
              "        \n",
              "  <svg xmlns=\"http://www.w3.org/2000/svg\" height=\"24px\"viewBox=\"0 0 24 24\"\n",
              "       width=\"24px\">\n",
              "    <path d=\"M0 0h24v24H0V0z\" fill=\"none\"/>\n",
              "    <path d=\"M18.56 5.44l.94 2.06.94-2.06 2.06-.94-2.06-.94-.94-2.06-.94 2.06-2.06.94zm-11 1L8.5 8.5l.94-2.06 2.06-.94-2.06-.94L8.5 2.5l-.94 2.06-2.06.94zm10 10l.94 2.06.94-2.06 2.06-.94-2.06-.94-.94-2.06-.94 2.06-2.06.94z\"/><path d=\"M17.41 7.96l-1.37-1.37c-.4-.4-.92-.59-1.43-.59-.52 0-1.04.2-1.43.59L10.3 9.45l-7.72 7.72c-.78.78-.78 2.05 0 2.83L4 21.41c.39.39.9.59 1.41.59.51 0 1.02-.2 1.41-.59l7.78-7.78 2.81-2.81c.8-.78.8-2.07 0-2.86zM5.41 20L4 18.59l7.72-7.72 1.47 1.35L5.41 20z\"/>\n",
              "  </svg>\n",
              "      </button>\n",
              "      \n",
              "  <style>\n",
              "    .colab-df-container {\n",
              "      display:flex;\n",
              "      flex-wrap:wrap;\n",
              "      gap: 12px;\n",
              "    }\n",
              "\n",
              "    .colab-df-convert {\n",
              "      background-color: #E8F0FE;\n",
              "      border: none;\n",
              "      border-radius: 50%;\n",
              "      cursor: pointer;\n",
              "      display: none;\n",
              "      fill: #1967D2;\n",
              "      height: 32px;\n",
              "      padding: 0 0 0 0;\n",
              "      width: 32px;\n",
              "    }\n",
              "\n",
              "    .colab-df-convert:hover {\n",
              "      background-color: #E2EBFA;\n",
              "      box-shadow: 0px 1px 2px rgba(60, 64, 67, 0.3), 0px 1px 3px 1px rgba(60, 64, 67, 0.15);\n",
              "      fill: #174EA6;\n",
              "    }\n",
              "\n",
              "    [theme=dark] .colab-df-convert {\n",
              "      background-color: #3B4455;\n",
              "      fill: #D2E3FC;\n",
              "    }\n",
              "\n",
              "    [theme=dark] .colab-df-convert:hover {\n",
              "      background-color: #434B5C;\n",
              "      box-shadow: 0px 1px 3px 1px rgba(0, 0, 0, 0.15);\n",
              "      filter: drop-shadow(0px 1px 2px rgba(0, 0, 0, 0.3));\n",
              "      fill: #FFFFFF;\n",
              "    }\n",
              "  </style>\n",
              "\n",
              "      <script>\n",
              "        const buttonEl =\n",
              "          document.querySelector('#df-0768fb4a-1c63-4234-8c45-89e032aca69b button.colab-df-convert');\n",
              "        buttonEl.style.display =\n",
              "          google.colab.kernel.accessAllowed ? 'block' : 'none';\n",
              "\n",
              "        async function convertToInteractive(key) {\n",
              "          const element = document.querySelector('#df-0768fb4a-1c63-4234-8c45-89e032aca69b');\n",
              "          const dataTable =\n",
              "            await google.colab.kernel.invokeFunction('convertToInteractive',\n",
              "                                                     [key], {});\n",
              "          if (!dataTable) return;\n",
              "\n",
              "          const docLinkHtml = 'Like what you see? Visit the ' +\n",
              "            '<a target=\"_blank\" href=https://colab.research.google.com/notebooks/data_table.ipynb>data table notebook</a>'\n",
              "            + ' to learn more about interactive tables.';\n",
              "          element.innerHTML = '';\n",
              "          dataTable['output_type'] = 'display_data';\n",
              "          await google.colab.output.renderOutput(dataTable, element);\n",
              "          const docLink = document.createElement('div');\n",
              "          docLink.innerHTML = docLinkHtml;\n",
              "          element.appendChild(docLink);\n",
              "        }\n",
              "      </script>\n",
              "    </div>\n",
              "  </div>\n",
              "  "
            ]
          },
          "metadata": {},
          "execution_count": 42
        }
      ]
    },
    {
      "cell_type": "markdown",
      "source": [
        "<b> TITLE </b>"
      ],
      "metadata": {
        "id": "m1SpwQksvVi8"
      }
    },
    {
      "cell_type": "code",
      "source": [
        "def cleanText(words):\n",
        "    \"\"\"The function to clean text\"\"\"\n",
        "    words = re.sub(\"[^a-zA-Z]\",\" \",words)\n",
        "    text = words.lower().split()\n",
        "    return \" \".join(text)\n",
        "\n",
        "df_train['TITLE'] = df_train['TITLE'].apply(cleanText)"
      ],
      "metadata": {
        "id": "NosySlSmvOI-"
      },
      "execution_count": 43,
      "outputs": []
    },
    {
      "cell_type": "code",
      "source": [
        "def remove_stopwords(text):\n",
        "    \"\"\"The function to removing stopwords\"\"\"\n",
        "    text = [word.lower() for word in text.split() if word.lower() not in stop]\n",
        "    return \" \".join(text)"
      ],
      "metadata": {
        "id": "Qt2jfynLvk7-"
      },
      "execution_count": 44,
      "outputs": []
    },
    {
      "cell_type": "code",
      "source": [
        "def word_lem(text):\n",
        "    \"\"\"The function to apply lemmatizing\"\"\"\n",
        "    lem_text = [lem.lemmatize(word) for word in text.split()]\n",
        "    return \" \".join(lem_text)\n",
        "df_train['TITLE'] = df_train['TITLE'].apply(remove_stopwords)\n",
        "df_train['TITLE'] = df_train['TITLE'].apply(word_lem)"
      ],
      "metadata": {
        "id": "pO_SPEeKvpWO"
      },
      "execution_count": 45,
      "outputs": []
    },
    {
      "cell_type": "code",
      "source": [
        "from sklearn.feature_extraction.text import CountVectorizer,TfidfVectorizer\n",
        "# CountVectorizer - name & categories\n",
        "cv = CountVectorizer(min_df=10)\n",
        "X_name3 = cv.fit_transform(df_train['TITLE'])"
      ],
      "metadata": {
        "id": "IAkauyH_vxne"
      },
      "execution_count": 46,
      "outputs": []
    },
    {
      "cell_type": "code",
      "source": [
        "from collections import Counter\n",
        "def reducecolumns(Col):\n",
        "    # remove columns with <= 1% non-zero entries (arbitrary choice so that notebook doesn't crash)\n",
        "    n_docs = Counter(Col.nonzero()[1])\n",
        "    cols_to_keep = [k for k, v in n_docs.items() if v > .0005 * Col.shape[0]]\n",
        "    return Col[:, cols_to_keep]"
      ],
      "metadata": {
        "id": "XntWmgltv1-v"
      },
      "execution_count": 47,
      "outputs": []
    },
    {
      "cell_type": "code",
      "source": [
        "print(\"Item Name Shape: \" + str(reducecolumns(X_name3).shape))"
      ],
      "metadata": {
        "colab": {
          "base_uri": "https://localhost:8080/"
        },
        "id": "ehLst6YJv5Cu",
        "outputId": "4f32724f-946b-4dfa-991d-26c1ef7aaf19"
      },
      "execution_count": 48,
      "outputs": [
        {
          "output_type": "stream",
          "name": "stdout",
          "text": [
            "Item Name Shape: (1962, 491)\n"
          ]
        }
      ]
    },
    {
      "cell_type": "code",
      "source": [
        "X_brand3 = lb.fit_transform(df_train['TITLE'])\n",
        "X_description3 = tv.fit_transform(df_train['TITLE'])"
      ],
      "metadata": {
        "id": "Gn0zRkDnv8IP"
      },
      "execution_count": 49,
      "outputs": []
    },
    {
      "cell_type": "code",
      "source": [
        "tfidf_weights = dict(zip(tv.get_feature_names_out(), tv.idf_))\n",
        "tfidf_weights = pd.DataFrame(columns = ['TITLE']).from_dict(dict(tfidf_weights), orient = 'index')\n",
        "tfidf_weights.columns = ['TITLE']\n",
        "\n",
        "#Lowest tfidf scores -  Highest frequency words that get most importance:\n",
        "tfidf_weights.sort_values(by=['TITLE'], ascending=True).head(10)"
      ],
      "metadata": {
        "colab": {
          "base_uri": "https://localhost:8080/",
          "height": 363
        },
        "id": "UbOi3IFDwCPO",
        "outputId": "0a542c04-40e5-4429-d28d-17f98a090deb"
      },
      "execution_count": 50,
      "outputs": [
        {
          "output_type": "execute_result",
          "data": {
            "text/plain": [
              "            TITLE\n",
              "woman    2.765118\n",
              "cover    2.871802\n",
              "black    3.021548\n",
              "pack     3.378223\n",
              "case     3.383732\n",
              "inch     3.482363\n",
              "printed  3.482363\n",
              "set      3.545277\n",
              "men      3.564949\n",
              "girl     3.612416"
            ],
            "text/html": [
              "\n",
              "  <div id=\"df-6b072e88-4aec-4ef4-a9c7-58ee60a8f7ba\">\n",
              "    <div class=\"colab-df-container\">\n",
              "      <div>\n",
              "<style scoped>\n",
              "    .dataframe tbody tr th:only-of-type {\n",
              "        vertical-align: middle;\n",
              "    }\n",
              "\n",
              "    .dataframe tbody tr th {\n",
              "        vertical-align: top;\n",
              "    }\n",
              "\n",
              "    .dataframe thead th {\n",
              "        text-align: right;\n",
              "    }\n",
              "</style>\n",
              "<table border=\"1\" class=\"dataframe\">\n",
              "  <thead>\n",
              "    <tr style=\"text-align: right;\">\n",
              "      <th></th>\n",
              "      <th>TITLE</th>\n",
              "    </tr>\n",
              "  </thead>\n",
              "  <tbody>\n",
              "    <tr>\n",
              "      <th>woman</th>\n",
              "      <td>2.765118</td>\n",
              "    </tr>\n",
              "    <tr>\n",
              "      <th>cover</th>\n",
              "      <td>2.871802</td>\n",
              "    </tr>\n",
              "    <tr>\n",
              "      <th>black</th>\n",
              "      <td>3.021548</td>\n",
              "    </tr>\n",
              "    <tr>\n",
              "      <th>pack</th>\n",
              "      <td>3.378223</td>\n",
              "    </tr>\n",
              "    <tr>\n",
              "      <th>case</th>\n",
              "      <td>3.383732</td>\n",
              "    </tr>\n",
              "    <tr>\n",
              "      <th>inch</th>\n",
              "      <td>3.482363</td>\n",
              "    </tr>\n",
              "    <tr>\n",
              "      <th>printed</th>\n",
              "      <td>3.482363</td>\n",
              "    </tr>\n",
              "    <tr>\n",
              "      <th>set</th>\n",
              "      <td>3.545277</td>\n",
              "    </tr>\n",
              "    <tr>\n",
              "      <th>men</th>\n",
              "      <td>3.564949</td>\n",
              "    </tr>\n",
              "    <tr>\n",
              "      <th>girl</th>\n",
              "      <td>3.612416</td>\n",
              "    </tr>\n",
              "  </tbody>\n",
              "</table>\n",
              "</div>\n",
              "      <button class=\"colab-df-convert\" onclick=\"convertToInteractive('df-6b072e88-4aec-4ef4-a9c7-58ee60a8f7ba')\"\n",
              "              title=\"Convert this dataframe to an interactive table.\"\n",
              "              style=\"display:none;\">\n",
              "        \n",
              "  <svg xmlns=\"http://www.w3.org/2000/svg\" height=\"24px\"viewBox=\"0 0 24 24\"\n",
              "       width=\"24px\">\n",
              "    <path d=\"M0 0h24v24H0V0z\" fill=\"none\"/>\n",
              "    <path d=\"M18.56 5.44l.94 2.06.94-2.06 2.06-.94-2.06-.94-.94-2.06-.94 2.06-2.06.94zm-11 1L8.5 8.5l.94-2.06 2.06-.94-2.06-.94L8.5 2.5l-.94 2.06-2.06.94zm10 10l.94 2.06.94-2.06 2.06-.94-2.06-.94-.94-2.06-.94 2.06-2.06.94z\"/><path d=\"M17.41 7.96l-1.37-1.37c-.4-.4-.92-.59-1.43-.59-.52 0-1.04.2-1.43.59L10.3 9.45l-7.72 7.72c-.78.78-.78 2.05 0 2.83L4 21.41c.39.39.9.59 1.41.59.51 0 1.02-.2 1.41-.59l7.78-7.78 2.81-2.81c.8-.78.8-2.07 0-2.86zM5.41 20L4 18.59l7.72-7.72 1.47 1.35L5.41 20z\"/>\n",
              "  </svg>\n",
              "      </button>\n",
              "      \n",
              "  <style>\n",
              "    .colab-df-container {\n",
              "      display:flex;\n",
              "      flex-wrap:wrap;\n",
              "      gap: 12px;\n",
              "    }\n",
              "\n",
              "    .colab-df-convert {\n",
              "      background-color: #E8F0FE;\n",
              "      border: none;\n",
              "      border-radius: 50%;\n",
              "      cursor: pointer;\n",
              "      display: none;\n",
              "      fill: #1967D2;\n",
              "      height: 32px;\n",
              "      padding: 0 0 0 0;\n",
              "      width: 32px;\n",
              "    }\n",
              "\n",
              "    .colab-df-convert:hover {\n",
              "      background-color: #E2EBFA;\n",
              "      box-shadow: 0px 1px 2px rgba(60, 64, 67, 0.3), 0px 1px 3px 1px rgba(60, 64, 67, 0.15);\n",
              "      fill: #174EA6;\n",
              "    }\n",
              "\n",
              "    [theme=dark] .colab-df-convert {\n",
              "      background-color: #3B4455;\n",
              "      fill: #D2E3FC;\n",
              "    }\n",
              "\n",
              "    [theme=dark] .colab-df-convert:hover {\n",
              "      background-color: #434B5C;\n",
              "      box-shadow: 0px 1px 3px 1px rgba(0, 0, 0, 0.15);\n",
              "      filter: drop-shadow(0px 1px 2px rgba(0, 0, 0, 0.3));\n",
              "      fill: #FFFFFF;\n",
              "    }\n",
              "  </style>\n",
              "\n",
              "      <script>\n",
              "        const buttonEl =\n",
              "          document.querySelector('#df-6b072e88-4aec-4ef4-a9c7-58ee60a8f7ba button.colab-df-convert');\n",
              "        buttonEl.style.display =\n",
              "          google.colab.kernel.accessAllowed ? 'block' : 'none';\n",
              "\n",
              "        async function convertToInteractive(key) {\n",
              "          const element = document.querySelector('#df-6b072e88-4aec-4ef4-a9c7-58ee60a8f7ba');\n",
              "          const dataTable =\n",
              "            await google.colab.kernel.invokeFunction('convertToInteractive',\n",
              "                                                     [key], {});\n",
              "          if (!dataTable) return;\n",
              "\n",
              "          const docLinkHtml = 'Like what you see? Visit the ' +\n",
              "            '<a target=\"_blank\" href=https://colab.research.google.com/notebooks/data_table.ipynb>data table notebook</a>'\n",
              "            + ' to learn more about interactive tables.';\n",
              "          element.innerHTML = '';\n",
              "          dataTable['output_type'] = 'display_data';\n",
              "          await google.colab.output.renderOutput(dataTable, element);\n",
              "          const docLink = document.createElement('div');\n",
              "          docLink.innerHTML = docLinkHtml;\n",
              "          element.appendChild(docLink);\n",
              "        }\n",
              "      </script>\n",
              "    </div>\n",
              "  </div>\n",
              "  "
            ]
          },
          "metadata": {},
          "execution_count": 50
        }
      ]
    },
    {
      "cell_type": "code",
      "source": [
        "X_dummies = csr_matrix(pd.get_dummies(df_train[['TITLE', 'BULLET_POINTS', 'DESCRIPTION']], sparse=True).values)"
      ],
      "metadata": {
        "id": "H7iQkvWYz5au"
      },
      "execution_count": 51,
      "outputs": []
    },
    {
      "cell_type": "code",
      "source": [
        "from scipy.sparse import csr_matrix, hstack"
      ],
      "metadata": {
        "id": "locf_EIGzPLn"
      },
      "execution_count": 52,
      "outputs": []
    },
    {
      "cell_type": "code",
      "source": [
        "# Combine everything together using Sparse matrix\n",
        "sparse_merge = hstack((X_dummies, reducecolumns(X_brand1), reducecolumns(X_description1), reducecolumns(X_brand2), reducecolumns(X_description2), reducecolumns(X_brand3), reducecolumns(X_description3))).tocsr()\n",
        "\n",
        "print(sparse_merge.shape)"
      ],
      "metadata": {
        "colab": {
          "base_uri": "https://localhost:8080/"
        },
        "id": "wqOWlY-YwK_-",
        "outputId": "77eeae2a-f09e-4d07-9757-1299f720b57f"
      },
      "execution_count": 53,
      "outputs": [
        {
          "output_type": "stream",
          "name": "stdout",
          "text": [
            "(1962, 147857)\n"
          ]
        }
      ]
    },
    {
      "cell_type": "code",
      "source": [
        "target = np.log(df_train['PRODUCT_LENGTH']+1)\n",
        "\n",
        "print(target.shape)"
      ],
      "metadata": {
        "colab": {
          "base_uri": "https://localhost:8080/"
        },
        "id": "5x7v2WJP0gJ-",
        "outputId": "2fe59a40-6d74-4c3a-a0e0-fdf13254c6ee"
      },
      "execution_count": 54,
      "outputs": [
        {
          "output_type": "stream",
          "name": "stdout",
          "text": [
            "(1962,)\n"
          ]
        }
      ]
    },
    {
      "cell_type": "code",
      "source": [
        "from collections import Counter\n",
        "\n",
        "n_docs = Counter(sparse_merge.nonzero()[1])\n",
        "cols_to_keep = [k for k, v in n_docs.items() if v > .0005 * sparse_merge.shape[0]]\n",
        "sparse_merge_filtered = sparse_merge[:, cols_to_keep]"
      ],
      "metadata": {
        "id": "qERdo83Y0uff"
      },
      "execution_count": 55,
      "outputs": []
    },
    {
      "cell_type": "code",
      "source": [
        "#Split into train and test sets\n",
        "from sklearn.model_selection import train_test_split\n",
        "features_train, features_test, target_train, target_test = train_test_split(sparse_merge, target, test_size = 0.35, random_state = 1)"
      ],
      "metadata": {
        "id": "Oe-mAOV50yIf"
      },
      "execution_count": 56,
      "outputs": []
    },
    {
      "cell_type": "code",
      "source": [
        "import keras\n",
        "from keras.models import Sequential\n",
        "from keras.layers import Dense\n",
        "from keras.wrappers.scikit_learn import KerasRegressor"
      ],
      "metadata": {
        "id": "3F8vR-xo02Yu"
      },
      "execution_count": 57,
      "outputs": []
    },
    {
      "cell_type": "code",
      "source": [
        "!pip install transformers"
      ],
      "metadata": {
        "colab": {
          "base_uri": "https://localhost:8080/"
        },
        "id": "kQThyXMp6k5P",
        "outputId": "591de221-417f-4798-906b-969a446fbe9b"
      },
      "execution_count": 60,
      "outputs": [
        {
          "output_type": "stream",
          "name": "stdout",
          "text": [
            "Looking in indexes: https://pypi.org/simple, https://us-python.pkg.dev/colab-wheels/public/simple/\n",
            "Collecting transformers\n",
            "  Downloading transformers-4.28.1-py3-none-any.whl (7.0 MB)\n",
            "\u001b[2K     \u001b[90m━━━━━━━━━━━━━━━━━━━━━━━━━━━━━━━━━━━━━━━━\u001b[0m \u001b[32m7.0/7.0 MB\u001b[0m \u001b[31m49.5 MB/s\u001b[0m eta \u001b[36m0:00:00\u001b[0m\n",
            "\u001b[?25hCollecting tokenizers!=0.11.3,<0.14,>=0.11.1\n",
            "  Downloading tokenizers-0.13.3-cp39-cp39-manylinux_2_17_x86_64.manylinux2014_x86_64.whl (7.8 MB)\n",
            "\u001b[2K     \u001b[90m━━━━━━━━━━━━━━━━━━━━━━━━━━━━━━━━━━━━━━━━\u001b[0m \u001b[32m7.8/7.8 MB\u001b[0m \u001b[31m66.8 MB/s\u001b[0m eta \u001b[36m0:00:00\u001b[0m\n",
            "\u001b[?25hRequirement already satisfied: requests in /usr/local/lib/python3.9/dist-packages (from transformers) (2.27.1)\n",
            "Requirement already satisfied: numpy>=1.17 in /usr/local/lib/python3.9/dist-packages (from transformers) (1.22.4)\n",
            "Requirement already satisfied: pyyaml>=5.1 in /usr/local/lib/python3.9/dist-packages (from transformers) (6.0)\n",
            "Requirement already satisfied: packaging>=20.0 in /usr/local/lib/python3.9/dist-packages (from transformers) (23.1)\n",
            "Requirement already satisfied: tqdm>=4.27 in /usr/local/lib/python3.9/dist-packages (from transformers) (4.65.0)\n",
            "Collecting huggingface-hub<1.0,>=0.11.0\n",
            "  Downloading huggingface_hub-0.13.4-py3-none-any.whl (200 kB)\n",
            "\u001b[2K     \u001b[90m━━━━━━━━━━━━━━━━━━━━━━━━━━━━━━━━━━━━━━\u001b[0m \u001b[32m200.1/200.1 kB\u001b[0m \u001b[31m21.2 MB/s\u001b[0m eta \u001b[36m0:00:00\u001b[0m\n",
            "\u001b[?25hRequirement already satisfied: regex!=2019.12.17 in /usr/local/lib/python3.9/dist-packages (from transformers) (2022.10.31)\n",
            "Requirement already satisfied: filelock in /usr/local/lib/python3.9/dist-packages (from transformers) (3.11.0)\n",
            "Requirement already satisfied: typing-extensions>=3.7.4.3 in /usr/local/lib/python3.9/dist-packages (from huggingface-hub<1.0,>=0.11.0->transformers) (4.5.0)\n",
            "Requirement already satisfied: urllib3<1.27,>=1.21.1 in /usr/local/lib/python3.9/dist-packages (from requests->transformers) (1.26.15)\n",
            "Requirement already satisfied: certifi>=2017.4.17 in /usr/local/lib/python3.9/dist-packages (from requests->transformers) (2022.12.7)\n",
            "Requirement already satisfied: idna<4,>=2.5 in /usr/local/lib/python3.9/dist-packages (from requests->transformers) (3.4)\n",
            "Requirement already satisfied: charset-normalizer~=2.0.0 in /usr/local/lib/python3.9/dist-packages (from requests->transformers) (2.0.12)\n",
            "Installing collected packages: tokenizers, huggingface-hub, transformers\n",
            "Successfully installed huggingface-hub-0.13.4 tokenizers-0.13.3 transformers-4.28.1\n"
          ]
        }
      ]
    },
    {
      "cell_type": "code",
      "source": [
        "from sklearn.pipeline import Pipeline"
      ],
      "metadata": {
        "id": "BUiI1jSp6w_s"
      },
      "execution_count": 62,
      "outputs": []
    },
    {
      "cell_type": "code",
      "source": [
        "def regressor_model():  \n",
        "    model = Sequential()\n",
        "    model.add(Dense(units=7, kernel_initializer='uniform', activation='relu', input_dim=147857))\n",
        "    model.add(Dense(1, kernel_initializer='uniform'))\n",
        "    model.compile(loss='mean_squared_error', optimizer='adam', metrics=['mae'])\n",
        "    return model\n",
        "\n",
        "features_train_processed = features_train.toarray()  \n",
        "estimators = []\n",
        "estimators.append(('mlp', KerasRegressor(build_fn=regressor_model, verbose=1)))\n",
        "pipeline = Pipeline(estimators)\n",
        "pipeline.fit(features_train_processed, target_train)"
      ],
      "metadata": {
        "colab": {
          "base_uri": "https://localhost:8080/",
          "height": 108
        },
        "id": "w7f25IE_1Cfe",
        "outputId": "d8807f1b-79f4-45e0-f814-02ac765377a0"
      },
      "execution_count": 66,
      "outputs": [
        {
          "output_type": "stream",
          "name": "stdout",
          "text": [
            "40/40 [==============================] - 3s 55ms/step - loss: 43.2745 - mae: 6.4869\n"
          ]
        },
        {
          "output_type": "execute_result",
          "data": {
            "text/plain": [
              "Pipeline(steps=[('mlp',\n",
              "                 <keras.wrappers.scikit_learn.KerasRegressor object at 0x7fc575ccb2e0>)])"
            ],
            "text/html": [
              "<style>#sk-container-id-2 {color: black;background-color: white;}#sk-container-id-2 pre{padding: 0;}#sk-container-id-2 div.sk-toggleable {background-color: white;}#sk-container-id-2 label.sk-toggleable__label {cursor: pointer;display: block;width: 100%;margin-bottom: 0;padding: 0.3em;box-sizing: border-box;text-align: center;}#sk-container-id-2 label.sk-toggleable__label-arrow:before {content: \"▸\";float: left;margin-right: 0.25em;color: #696969;}#sk-container-id-2 label.sk-toggleable__label-arrow:hover:before {color: black;}#sk-container-id-2 div.sk-estimator:hover label.sk-toggleable__label-arrow:before {color: black;}#sk-container-id-2 div.sk-toggleable__content {max-height: 0;max-width: 0;overflow: hidden;text-align: left;background-color: #f0f8ff;}#sk-container-id-2 div.sk-toggleable__content pre {margin: 0.2em;color: black;border-radius: 0.25em;background-color: #f0f8ff;}#sk-container-id-2 input.sk-toggleable__control:checked~div.sk-toggleable__content {max-height: 200px;max-width: 100%;overflow: auto;}#sk-container-id-2 input.sk-toggleable__control:checked~label.sk-toggleable__label-arrow:before {content: \"▾\";}#sk-container-id-2 div.sk-estimator input.sk-toggleable__control:checked~label.sk-toggleable__label {background-color: #d4ebff;}#sk-container-id-2 div.sk-label input.sk-toggleable__control:checked~label.sk-toggleable__label {background-color: #d4ebff;}#sk-container-id-2 input.sk-hidden--visually {border: 0;clip: rect(1px 1px 1px 1px);clip: rect(1px, 1px, 1px, 1px);height: 1px;margin: -1px;overflow: hidden;padding: 0;position: absolute;width: 1px;}#sk-container-id-2 div.sk-estimator {font-family: monospace;background-color: #f0f8ff;border: 1px dotted black;border-radius: 0.25em;box-sizing: border-box;margin-bottom: 0.5em;}#sk-container-id-2 div.sk-estimator:hover {background-color: #d4ebff;}#sk-container-id-2 div.sk-parallel-item::after {content: \"\";width: 100%;border-bottom: 1px solid gray;flex-grow: 1;}#sk-container-id-2 div.sk-label:hover label.sk-toggleable__label {background-color: #d4ebff;}#sk-container-id-2 div.sk-serial::before {content: \"\";position: absolute;border-left: 1px solid gray;box-sizing: border-box;top: 0;bottom: 0;left: 50%;z-index: 0;}#sk-container-id-2 div.sk-serial {display: flex;flex-direction: column;align-items: center;background-color: white;padding-right: 0.2em;padding-left: 0.2em;position: relative;}#sk-container-id-2 div.sk-item {position: relative;z-index: 1;}#sk-container-id-2 div.sk-parallel {display: flex;align-items: stretch;justify-content: center;background-color: white;position: relative;}#sk-container-id-2 div.sk-item::before, #sk-container-id-2 div.sk-parallel-item::before {content: \"\";position: absolute;border-left: 1px solid gray;box-sizing: border-box;top: 0;bottom: 0;left: 50%;z-index: -1;}#sk-container-id-2 div.sk-parallel-item {display: flex;flex-direction: column;z-index: 1;position: relative;background-color: white;}#sk-container-id-2 div.sk-parallel-item:first-child::after {align-self: flex-end;width: 50%;}#sk-container-id-2 div.sk-parallel-item:last-child::after {align-self: flex-start;width: 50%;}#sk-container-id-2 div.sk-parallel-item:only-child::after {width: 0;}#sk-container-id-2 div.sk-dashed-wrapped {border: 1px dashed gray;margin: 0 0.4em 0.5em 0.4em;box-sizing: border-box;padding-bottom: 0.4em;background-color: white;}#sk-container-id-2 div.sk-label label {font-family: monospace;font-weight: bold;display: inline-block;line-height: 1.2em;}#sk-container-id-2 div.sk-label-container {text-align: center;}#sk-container-id-2 div.sk-container {/* jupyter's `normalize.less` sets `[hidden] { display: none; }` but bootstrap.min.css set `[hidden] { display: none !important; }` so we also need the `!important` here to be able to override the default hidden behavior on the sphinx rendered scikit-learn.org. See: https://github.com/scikit-learn/scikit-learn/issues/21755 */display: inline-block !important;position: relative;}#sk-container-id-2 div.sk-text-repr-fallback {display: none;}</style><div id=\"sk-container-id-2\" class=\"sk-top-container\"><div class=\"sk-text-repr-fallback\"><pre>Pipeline(steps=[(&#x27;mlp&#x27;,\n",
              "                 &lt;keras.wrappers.scikit_learn.KerasRegressor object at 0x7fc575ccb2e0&gt;)])</pre><b>In a Jupyter environment, please rerun this cell to show the HTML representation or trust the notebook. <br />On GitHub, the HTML representation is unable to render, please try loading this page with nbviewer.org.</b></div><div class=\"sk-container\" hidden><div class=\"sk-item sk-dashed-wrapped\"><div class=\"sk-label-container\"><div class=\"sk-label sk-toggleable\"><input class=\"sk-toggleable__control sk-hidden--visually\" id=\"sk-estimator-id-3\" type=\"checkbox\" ><label for=\"sk-estimator-id-3\" class=\"sk-toggleable__label sk-toggleable__label-arrow\">Pipeline</label><div class=\"sk-toggleable__content\"><pre>Pipeline(steps=[(&#x27;mlp&#x27;,\n",
              "                 &lt;keras.wrappers.scikit_learn.KerasRegressor object at 0x7fc575ccb2e0&gt;)])</pre></div></div></div><div class=\"sk-serial\"><div class=\"sk-item\"><div class=\"sk-estimator sk-toggleable\"><input class=\"sk-toggleable__control sk-hidden--visually\" id=\"sk-estimator-id-4\" type=\"checkbox\" ><label for=\"sk-estimator-id-4\" class=\"sk-toggleable__label sk-toggleable__label-arrow\">KerasRegressor</label><div class=\"sk-toggleable__content\"><pre>&lt;keras.wrappers.scikit_learn.KerasRegressor object at 0x7fc575ccb2e0&gt;</pre></div></div></div></div></div></div></div>"
            ]
          },
          "metadata": {},
          "execution_count": 66
        }
      ]
    },
    {
      "cell_type": "code",
      "source": [
        "target_pred = pipeline.predict(features_test.toarray())"
      ],
      "metadata": {
        "colab": {
          "base_uri": "https://localhost:8080/"
        },
        "id": "Vu8O2xhh5Kl4",
        "outputId": "8686e860-cb8c-4aeb-b9c2-9830146789cd"
      },
      "execution_count": 67,
      "outputs": [
        {
          "output_type": "stream",
          "name": "stdout",
          "text": [
            "22/22 [==============================] - 1s 23ms/step\n"
          ]
        }
      ]
    },
    {
      "cell_type": "code",
      "source": [
        "target_pred_inv=np.expm1(target_pred)"
      ],
      "metadata": {
        "id": "ecwgMiqy5lL_"
      },
      "execution_count": 69,
      "outputs": []
    },
    {
      "cell_type": "code",
      "source": [
        "target_pred_inv"
      ],
      "metadata": {
        "colab": {
          "base_uri": "https://localhost:8080/"
        },
        "id": "AI-Le54w74lr",
        "outputId": "4cd8f3de-0396-40df-e0f3-087e5d0e1ef5"
      },
      "execution_count": 70,
      "outputs": [
        {
          "output_type": "execute_result",
          "data": {
            "text/plain": [
              "array([0.12258972, 0.11502382, 0.134829  , 0.12886243, 0.1799021 ,\n",
              "       0.10907458, 0.15045531, 0.16572763, 0.0856473 , 0.18040182,\n",
              "       0.10747891, 0.14644107, 0.15200794, 0.07268979, 0.15216753,\n",
              "       0.10857835, 0.11633762, 0.07318657, 0.14683111, 0.13875401,\n",
              "       0.18698056, 0.17511252, 0.1357872 , 0.17548415, 0.16907498,\n",
              "       0.12102672, 0.07899794, 0.12060565, 0.10947713, 0.08207513,\n",
              "       0.1247391 , 0.1340715 , 0.12298714, 0.13692413, 0.12834936,\n",
              "       0.14297636, 0.16211344, 0.14685458, 0.11070095, 0.1454859 ,\n",
              "       0.1435513 , 0.10187039, 0.10725415, 0.1230858 , 0.10799735,\n",
              "       0.09201147, 0.15472221, 0.13737664, 0.08063167, 0.0855483 ,\n",
              "       0.17711699, 0.17415942, 0.18250139, 0.09681537, 0.11984471,\n",
              "       0.1232046 , 0.09386039, 0.13457213, 0.08763991, 0.19866751,\n",
              "       0.0891853 , 0.19066891, 0.13094255, 0.10105555, 0.14715698,\n",
              "       0.10490736, 0.14246325, 0.14422439, 0.15089728, 0.1707308 ,\n",
              "       0.16562235, 0.11568518, 0.17314346, 0.13865979, 0.1863702 ,\n",
              "       0.17929697, 0.09496143, 0.09688978, 0.08325422, 0.08448325,\n",
              "       0.14850217, 0.13074875, 0.06677142, 0.16585153, 0.15168051,\n",
              "       0.12221016, 0.15321633, 0.12565303, 0.20760322, 0.15234926,\n",
              "       0.0805511 , 0.11979899, 0.14745206, 0.08581492, 0.11279706,\n",
              "       0.12945265, 0.11166518, 0.0820356 , 0.14759259, 0.15101798,\n",
              "       0.1483672 , 0.10469986, 0.12751693, 0.11573764, 0.14290567,\n",
              "       0.15219894, 0.09622336, 0.11659978, 0.11594316, 0.11915393,\n",
              "       0.14177619, 0.12606607, 0.21389602, 0.16272853, 0.12844108,\n",
              "       0.17565799, 0.16512668, 0.17899382, 0.1440219 , 0.18536355,\n",
              "       0.10091477, 0.13820657, 0.1338942 , 0.09735577, 0.14790274,\n",
              "       0.17336325, 0.08205205, 0.10514776, 0.10510352, 0.14737488,\n",
              "       0.12487384, 0.14970651, 0.10838341, 0.1277523 , 0.12079865,\n",
              "       0.1280471 , 0.10760286, 0.14064442, 0.15936096, 0.1308053 ,\n",
              "       0.11234573, 0.16491418, 0.13070677, 0.12739213, 0.14087158,\n",
              "       0.15062806, 0.10996204, 0.14226408, 0.13466994, 0.17701803,\n",
              "       0.14561407, 0.17911288, 0.14547409, 0.10341908, 0.17507297,\n",
              "       0.12065264, 0.11436753, 0.11991352, 0.16726647, 0.14381497,\n",
              "       0.12282065, 0.10445963, 0.10647328, 0.12198385, 0.23760723,\n",
              "       0.12344351, 0.23275165, 0.1312667 , 0.1704188 , 0.13310239,\n",
              "       0.17762032, 0.15130253, 0.13167177, 0.08184206, 0.09047634,\n",
              "       0.17038646, 0.14406817, 0.1501751 , 0.17642072, 0.09870429,\n",
              "       0.17473021, 0.09717143, 0.12576541, 0.12082709, 0.12567784,\n",
              "       0.16611743, 0.16750999, 0.11674088, 0.16664702, 0.06638309,\n",
              "       0.12821828, 0.07741782, 0.19483066, 0.14796324, 0.14763272,\n",
              "       0.14332268, 0.13334538, 0.12598082, 0.18691245, 0.13344327,\n",
              "       0.09785689, 0.11692949, 0.12099006, 0.13200566, 0.14379862,\n",
              "       0.10872409, 0.11342707, 0.06520345, 0.20966464, 0.11406895,\n",
              "       0.06887815, 0.13507503, 0.16438419, 0.13117108, 0.14003894,\n",
              "       0.11036363, 0.14393857, 0.214449  , 0.14300698, 0.11553182,\n",
              "       0.12378947, 0.12411556, 0.12800357, 0.09386092, 0.06445619,\n",
              "       0.1218668 , 0.15207936, 0.11537786, 0.10520788, 0.21050607,\n",
              "       0.19631504, 0.11574846, 0.10402264, 0.09574883, 0.11819909,\n",
              "       0.09872051, 0.08565364, 0.09202395, 0.0912965 , 0.13767743,\n",
              "       0.13256626, 0.09683202, 0.07466232, 0.11482675, 0.05690325,\n",
              "       0.07897618, 0.151751  , 0.09479507, 0.15216973, 0.17280245,\n",
              "       0.1667645 , 0.1303765 , 0.15227833, 0.16451141, 0.14021303,\n",
              "       0.09250455, 0.06810767, 0.21267569, 0.14764704, 0.12579435,\n",
              "       0.20258683, 0.10844252, 0.22446108, 0.17395514, 0.12807257,\n",
              "       0.0857171 , 0.1648814 , 0.2213079 , 0.15657526, 0.11539585,\n",
              "       0.10516191, 0.13064855, 0.14765364, 0.15028591, 0.07789973,\n",
              "       0.10994135, 0.11038808, 0.11484404, 0.14270613, 0.09023435,\n",
              "       0.07427552, 0.18033056, 0.1739176 , 0.1400463 , 0.22677566,\n",
              "       0.09705794, 0.14439185, 0.11751485, 0.16762054, 0.149986  ,\n",
              "       0.20634165, 0.11720209, 0.13801008, 0.06394629, 0.14560702,\n",
              "       0.08130398, 0.11701438, 0.10864926, 0.09006737, 0.09596105,\n",
              "       0.15839817, 0.11810353, 0.1104029 , 0.17002298, 0.1651076 ,\n",
              "       0.2016568 , 0.14035128, 0.15690608, 0.14623806, 0.17066999,\n",
              "       0.1218314 , 0.166511  , 0.12316665, 0.08048885, 0.08470993,\n",
              "       0.13274507, 0.12121943, 0.11082026, 0.1628869 , 0.11978558,\n",
              "       0.13557218, 0.13438158, 0.16532004, 0.21153648, 0.2071794 ,\n",
              "       0.0859333 , 0.20948079, 0.08122481, 0.0992363 , 0.2198794 ,\n",
              "       0.06818312, 0.0922763 , 0.08602257, 0.10482771, 0.15698281,\n",
              "       0.15212394, 0.15892114, 0.15900734, 0.2118037 , 0.12523754,\n",
              "       0.08689292, 0.10455178, 0.1308752 , 0.13240395, 0.06938007,\n",
              "       0.07805718, 0.10592073, 0.11239305, 0.09773023, 0.14467655,\n",
              "       0.09218552, 0.13740996, 0.14099193, 0.18021524, 0.11836556,\n",
              "       0.14670776, 0.10744118, 0.11064784, 0.14657347, 0.11201891,\n",
              "       0.11760006, 0.14814655, 0.11889604, 0.17641483, 0.1756356 ,\n",
              "       0.14249259, 0.13725486, 0.1720785 , 0.21594201, 0.19124036,\n",
              "       0.19264384, 0.15071295, 0.13656949, 0.0934722 , 0.06367511,\n",
              "       0.09957584, 0.12939721, 0.14783658, 0.15078345, 0.09119505,\n",
              "       0.12007835, 0.11220115, 0.10964403, 0.13373299, 0.15137953,\n",
              "       0.09950204, 0.13370147, 0.11874939, 0.15199822, 0.09391963,\n",
              "       0.1219587 , 0.10504731, 0.16608094, 0.12779494, 0.11209545,\n",
              "       0.14292547, 0.20431511, 0.11159927, 0.14245932, 0.1546425 ,\n",
              "       0.11813814, 0.12507881, 0.14025432, 0.06882286, 0.1235842 ,\n",
              "       0.16555022, 0.15518238, 0.1408051 , 0.1905939 , 0.15804978,\n",
              "       0.08684491, 0.10071046, 0.1304735 , 0.13499129, 0.11448865,\n",
              "       0.11986718, 0.1143365 , 0.13178724, 0.12255225, 0.17321776,\n",
              "       0.17264265, 0.07684469, 0.14546426, 0.07752404, 0.10695028,\n",
              "       0.06927878, 0.06899107, 0.11117061, 0.15235497, 0.15512104,\n",
              "       0.14615077, 0.09185927, 0.1450517 , 0.14830817, 0.14563245,\n",
              "       0.16576077, 0.18486738, 0.10842759, 0.10967817, 0.15924883,\n",
              "       0.17821723, 0.11214238, 0.12149508, 0.12452389, 0.11212806,\n",
              "       0.16060303, 0.09698044, 0.13542503, 0.07160634, 0.15395446,\n",
              "       0.12041064, 0.23213883, 0.13130938, 0.0926936 , 0.13771057,\n",
              "       0.14967722, 0.1894694 , 0.0771515 , 0.19582704, 0.1476971 ,\n",
              "       0.14866148, 0.12485795, 0.16255298, 0.10804476, 0.08202003,\n",
              "       0.16395481, 0.14600834, 0.1133135 , 0.12393941, 0.15459852,\n",
              "       0.1497229 , 0.10792366, 0.10170117, 0.0718571 , 0.11076845,\n",
              "       0.13001168, 0.19207565, 0.09664417, 0.11296719, 0.17266701,\n",
              "       0.15548995, 0.19693138, 0.16615872, 0.1406855 , 0.15980174,\n",
              "       0.06925074, 0.12843071, 0.14787555, 0.1175892 , 0.18090644,\n",
              "       0.18388282, 0.14833239, 0.09803799, 0.08794035, 0.06173139,\n",
              "       0.08090129, 0.11521325, 0.10795458, 0.10970359, 0.140645  ,\n",
              "       0.15710224, 0.20394428, 0.11875779, 0.15232344, 0.08155285,\n",
              "       0.18879785, 0.13492878, 0.10530103, 0.12159378, 0.1815124 ,\n",
              "       0.12316863, 0.13510764, 0.10843235, 0.12860121, 0.16150355,\n",
              "       0.16504575, 0.11491882, 0.1666372 , 0.09546895, 0.12899226,\n",
              "       0.14222571, 0.14243849, 0.13015127, 0.0531119 , 0.16733503,\n",
              "       0.13159096, 0.11121897, 0.12852117, 0.1390018 , 0.10485292,\n",
              "       0.13736783, 0.17501038, 0.10223443, 0.16922657, 0.08112606,\n",
              "       0.1391311 , 0.1883758 , 0.20336051, 0.14025465, 0.10711945,\n",
              "       0.09094606, 0.1418328 , 0.15214017, 0.1455013 , 0.12842631,\n",
              "       0.16964695, 0.110774  , 0.13421285, 0.11393349, 0.07750849,\n",
              "       0.18500215, 0.11634614, 0.066474  , 0.18342482, 0.12047087,\n",
              "       0.15199669, 0.11975229, 0.09206814, 0.12120638, 0.10547878,\n",
              "       0.15294911, 0.17824827, 0.1382487 , 0.14266251, 0.09382741,\n",
              "       0.1059784 , 0.1559403 , 0.09693823, 0.137147  , 0.13249901,\n",
              "       0.17521259, 0.12522087, 0.13126944, 0.16728269, 0.17277354,\n",
              "       0.09965878, 0.10318138, 0.17865108, 0.10670719, 0.1293836 ,\n",
              "       0.09475749, 0.1369184 , 0.12780467, 0.10908242, 0.12566456,\n",
              "       0.06595545, 0.09945788, 0.16892926, 0.10667724, 0.08515847,\n",
              "       0.11527415, 0.14507103, 0.15967701, 0.11112932, 0.17264454,\n",
              "       0.13454333, 0.19167025, 0.16129653, 0.10767031, 0.14488058,\n",
              "       0.1380955 , 0.18519557, 0.18830153, 0.16328315, 0.08993007,\n",
              "       0.15953527, 0.09595185, 0.11308276, 0.14436907, 0.07520153,\n",
              "       0.1525992 , 0.10893128, 0.16540745, 0.13199525, 0.12832668,\n",
              "       0.11235564, 0.13897328, 0.08160254, 0.09072586, 0.13625239,\n",
              "       0.15416162, 0.1336973 , 0.12242632, 0.06355222, 0.12917611,\n",
              "       0.13604295, 0.14216675, 0.13087675, 0.07354718, 0.16304842,\n",
              "       0.14786258, 0.1186821 , 0.11516055, 0.1848959 , 0.12533377,\n",
              "       0.15233457, 0.12364928, 0.17776725, 0.16380058, 0.18429166,\n",
              "       0.11409253, 0.13054596, 0.07467992, 0.15473245, 0.14199091,\n",
              "       0.11745044, 0.06914871, 0.12334246, 0.11865222, 0.09561394,\n",
              "       0.11254197, 0.13348016, 0.10282841, 0.10596399, 0.13385701,\n",
              "       0.19180459, 0.15545873, 0.09103951, 0.17740726, 0.12420336,\n",
              "       0.13098261, 0.12834679, 0.08884901, 0.08067297, 0.13648692,\n",
              "       0.15960991, 0.09202721, 0.20136118, 0.12706304, 0.15314528,\n",
              "       0.11983421, 0.12000964, 0.14715046, 0.14990649, 0.13970391,\n",
              "       0.12718718, 0.11196716, 0.15200928, 0.11591282, 0.14227214,\n",
              "       0.1192796 , 0.11128851, 0.1145136 , 0.13585399, 0.12184015,\n",
              "       0.11954954, 0.13654277], dtype=float32)"
            ]
          },
          "metadata": {},
          "execution_count": 70
        }
      ]
    },
    {
      "cell_type": "code",
      "source": [
        "from sklearn.metrics import mean_squared_error\n",
        "import numpy as np"
      ],
      "metadata": {
        "id": "DCJN8xV67x6M"
      },
      "execution_count": 71,
      "outputs": []
    },
    {
      "cell_type": "code",
      "source": [
        "rmse = np.sqrt(mean_squared_error(target_test, target_pred_inv))\n",
        "\n",
        "print(\"RMSE:\", rmse)"
      ],
      "metadata": {
        "colab": {
          "base_uri": "https://localhost:8080/"
        },
        "id": "Y2p8wojD7VQh",
        "outputId": "18af2382-e1bd-4511-a0a7-6490148c6a60"
      },
      "execution_count": 72,
      "outputs": [
        {
          "output_type": "stream",
          "name": "stdout",
          "text": [
            "RMSE: 6.599393227371408\n"
          ]
        }
      ]
    },
    {
      "cell_type": "code",
      "source": [
        "smape = np.mean(2.0 * np.abs(target_pred_inv - target_test) / (np.abs(target_pred_inv) + np.abs(target_test))) * 100.0\n",
        "\n",
        "print(\"SMAPE:\", smape)"
      ],
      "metadata": {
        "colab": {
          "base_uri": "https://localhost:8080/"
        },
        "id": "rCVJCfvd76kO",
        "outputId": "df864fbc-ecff-48fb-8fc5-db7974b5fcab"
      },
      "execution_count": 73,
      "outputs": [
        {
          "output_type": "stream",
          "name": "stdout",
          "text": [
            "SMAPE: 191.90912517452855\n"
          ]
        }
      ]
    },
    {
      "cell_type": "code",
      "source": [],
      "metadata": {
        "id": "Ycl28OVX8F6-"
      },
      "execution_count": null,
      "outputs": []
    }
  ]
}